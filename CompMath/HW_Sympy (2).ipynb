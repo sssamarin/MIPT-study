{
  "nbformat": 4,
  "nbformat_minor": 0,
  "metadata": {
    "colab": {
      "provenance": [],
      "collapsed_sections": [
        "xrAH3Dt5wwBG",
        "H5Md0FDG5Mx9",
        "92W2ey0HFhOQ"
      ]
    },
    "kernelspec": {
      "name": "python3",
      "display_name": "Python 3"
    },
    "language_info": {
      "name": "python"
    }
  },
  "cells": [
    {
      "cell_type": "markdown",
      "source": [
        "# Task1"
      ],
      "metadata": {
        "id": "CJPv61Ri1hpR"
      }
    },
    {
      "cell_type": "code",
      "execution_count": 1,
      "metadata": {
        "id": "GHfl2jh01fDx"
      },
      "outputs": [],
      "source": [
        "import sympy\n",
        "from sympy import *"
      ]
    },
    {
      "cell_type": "code",
      "source": [
        "init_printing() # для красивого вида последующих выражений"
      ],
      "metadata": {
        "id": "Vg3jtQkT5jdV"
      },
      "execution_count": 2,
      "outputs": []
    },
    {
      "cell_type": "code",
      "source": [
        "x, y = symbols(\"x y\")"
      ],
      "metadata": {
        "id": "J3KO1wiO2UZh"
      },
      "execution_count": 3,
      "outputs": []
    },
    {
      "cell_type": "code",
      "source": [
        "expr1 = 1/x + 1/(2*x)"
      ],
      "metadata": {
        "id": "OXsHcLcQ4qmn"
      },
      "execution_count": 78,
      "outputs": []
    },
    {
      "cell_type": "code",
      "source": [
        "expr1"
      ],
      "metadata": {
        "colab": {
          "base_uri": "https://localhost:8080/",
          "height": 51
        },
        "id": "oUhEU4Nc5k3_",
        "outputId": "154f6bd2-5831-41cd-90c0-49dea68a3ba7"
      },
      "execution_count": null,
      "outputs": [
        {
          "output_type": "execute_result",
          "data": {
            "text/plain": [
              " 3 \n",
              "───\n",
              "2⋅x"
            ],
            "text/latex": "$\\displaystyle \\frac{3}{2 x}$"
          },
          "metadata": {},
          "execution_count": 5
        }
      ]
    },
    {
      "cell_type": "code",
      "source": [
        "expr2 = 3 * (x + y)**2 + cos(x + y)"
      ],
      "metadata": {
        "id": "QDd-i9co5nCq"
      },
      "execution_count": null,
      "outputs": []
    },
    {
      "cell_type": "code",
      "source": [
        "expand_trig(expr2.expand())"
      ],
      "metadata": {
        "colab": {
          "base_uri": "https://localhost:8080/",
          "height": 38
        },
        "id": "7wICQrQK6IBn",
        "outputId": "372298ca-9c3c-4e67-98ea-4e1286fde767"
      },
      "execution_count": null,
      "outputs": [
        {
          "output_type": "execute_result",
          "data": {
            "text/plain": [
              "   2              2                                \n",
              "3⋅x  + 6⋅x⋅y + 3⋅y  - sin(x)⋅sin(y) + cos(x)⋅cos(y)"
            ],
            "text/latex": "$\\displaystyle 3 x^{2} + 6 x y + 3 y^{2} - \\sin{\\left(x \\right)} \\sin{\\left(y \\right)} + \\cos{\\left(x \\right)} \\cos{\\left(y \\right)}$"
          },
          "metadata": {},
          "execution_count": 17
        }
      ]
    },
    {
      "cell_type": "code",
      "source": [
        "expr3 = cos(2*x + y)"
      ],
      "metadata": {
        "id": "buIgbVaz65_A"
      },
      "execution_count": null,
      "outputs": []
    },
    {
      "cell_type": "code",
      "source": [
        "expand_trig(expr3)"
      ],
      "metadata": {
        "colab": {
          "base_uri": "https://localhost:8080/",
          "height": 39
        },
        "id": "GxW9pKXwcTYq",
        "outputId": "ae82b897-f471-424e-daed-6bc3369c1f95"
      },
      "execution_count": null,
      "outputs": [
        {
          "output_type": "execute_result",
          "data": {
            "text/plain": [
              "⎛     2       ⎞                                \n",
              "⎝2⋅cos (x) - 1⎠⋅cos(y) - 2⋅sin(x)⋅sin(y)⋅cos(x)"
            ],
            "text/latex": "$\\displaystyle \\left(2 \\cos^{2}{\\left(x \\right)} - 1\\right) \\cos{\\left(y \\right)} - 2 \\sin{\\left(x \\right)} \\sin{\\left(y \\right)} \\cos{\\left(x \\right)}$"
          },
          "metadata": {},
          "execution_count": 21
        }
      ]
    },
    {
      "cell_type": "markdown",
      "source": [
        "#Task2"
      ],
      "metadata": {
        "id": "CGEtk8cBcfc-"
      }
    },
    {
      "cell_type": "code",
      "source": [
        "expr1 = log(x - 3)"
      ],
      "metadata": {
        "id": "32ixDHD4cWOF"
      },
      "execution_count": 76,
      "outputs": []
    },
    {
      "cell_type": "code",
      "source": [
        "expr1.diff(x).evalf(subs = {x:3})"
      ],
      "metadata": {
        "colab": {
          "base_uri": "https://localhost:8080/",
          "height": 37
        },
        "id": "dYpd1VH8t-G-",
        "outputId": "3a8eaf5d-ad70-4b31-e117-685a747ef2d6"
      },
      "execution_count": null,
      "outputs": [
        {
          "output_type": "execute_result",
          "data": {
            "text/plain": [
              "7.26838724295607e+134"
            ],
            "text/latex": "$\\displaystyle 7.26838724295607 \\cdot 10^{134}$"
          },
          "metadata": {},
          "execution_count": 25
        }
      ]
    },
    {
      "cell_type": "code",
      "source": [
        "expr2 = 4*x**3 - cos(2*x) + 1"
      ],
      "metadata": {
        "id": "qwi6q7PQwDe-"
      },
      "execution_count": null,
      "outputs": []
    },
    {
      "cell_type": "code",
      "source": [
        "expr2.diff(x).evalf(subs = {x:3})"
      ],
      "metadata": {
        "colab": {
          "base_uri": "https://localhost:8080/",
          "height": 37
        },
        "id": "hN2T1l1YwY8L",
        "outputId": "33ea2e5f-7f83-4fc6-e0e4-82aa26312de4"
      },
      "execution_count": null,
      "outputs": [
        {
          "output_type": "execute_result",
          "data": {
            "text/plain": [
              "107.441169003602"
            ],
            "text/latex": "$\\displaystyle 107.441169003602$"
          },
          "metadata": {},
          "execution_count": 27
        }
      ]
    },
    {
      "cell_type": "markdown",
      "source": [
        "#Task3"
      ],
      "metadata": {
        "id": "xrAH3Dt5wwBG"
      }
    },
    {
      "cell_type": "code",
      "source": [
        "expr1 = (1/2 - x) * cos(x) + sin(x)"
      ],
      "metadata": {
        "id": "INacDiqYwok0"
      },
      "execution_count": null,
      "outputs": []
    },
    {
      "cell_type": "code",
      "source": [
        "solve(expr1.diff(x))"
      ],
      "metadata": {
        "colab": {
          "base_uri": "https://localhost:8080/",
          "height": 37
        },
        "id": "BypSWPnVzYEq",
        "outputId": "53078a32-e877-4e1a-bf2b-8b85ad294705"
      },
      "execution_count": null,
      "outputs": [
        {
          "output_type": "execute_result",
          "data": {
            "text/plain": [
              "[0.0, 0.5, 3.14159265358979]"
            ],
            "text/latex": "$\\displaystyle \\left[ 0.0, \\  0.5, \\  3.14159265358979\\right]$"
          },
          "metadata": {},
          "execution_count": 30
        }
      ]
    },
    {
      "cell_type": "code",
      "source": [
        "for x0 in solve(expr1.diff(x)):\n",
        "    expr1.diff(x, 2).evalf(subs = {x : x0})\n"
      ],
      "metadata": {
        "id": "lqNhFUam21eY"
      },
      "execution_count": null,
      "outputs": []
    },
    {
      "cell_type": "markdown",
      "source": [
        "Вторая производная не обращается в ноль, соотв., все эти точки - экстремумы"
      ],
      "metadata": {
        "id": "xLs5Znbo4cUK"
      }
    },
    {
      "cell_type": "code",
      "source": [
        "for x0 in solve(expr1.diff(x)):\n",
        "    print(expr1.evalf(subs = {x : x0}))"
      ],
      "metadata": {
        "colab": {
          "base_uri": "https://localhost:8080/"
        },
        "id": "24tt8qKi3N8z",
        "outputId": "d2f3dd95-2d60-44b6-a3c3-788378813801"
      },
      "execution_count": null,
      "outputs": [
        {
          "output_type": "stream",
          "name": "stdout",
          "text": [
            "0.500000000000000\n",
            "0.479425538604203\n",
            "2.64159265358979\n"
          ]
        }
      ]
    },
    {
      "cell_type": "markdown",
      "source": [
        "#Task4"
      ],
      "metadata": {
        "id": "H5Md0FDG5Mx9"
      }
    },
    {
      "cell_type": "code",
      "source": [
        "F = input('Введите функцию: ')\n",
        "a = int(input('Введите начало отрезка: '))\n",
        "b = int(input('Введите конец отрезка: '))"
      ],
      "metadata": {
        "colab": {
          "base_uri": "https://localhost:8080/"
        },
        "id": "skW_K2Fq4xYE",
        "outputId": "72f21d1e-b1fe-427f-d773-4d8672ddada7"
      },
      "execution_count": null,
      "outputs": [
        {
          "name": "stdout",
          "output_type": "stream",
          "text": [
            "Введите функцию: [x + 2}^2 - x\n",
            "Введите начало отрезка: -4\n",
            "Введите конец отрезка: 4\n"
          ]
        }
      ]
    },
    {
      "cell_type": "code",
      "source": [
        "symb_to_repl = {'^':'**', '[':'(', ']':')', '{':'(', '}':')'}\n",
        "for key in symb_to_repl.keys():\n",
        "    F = F.replace(key, symb_to_repl[key])\n",
        "F = sympify(F)\n",
        "print('f(x) = ' + str(F))\n",
        "print('первая производная: ' + str(F.diff(x)))\n",
        "print('вторая производная: ' + str(F.diff(x, 2)))\n",
        "\n",
        "diff1 = solve(F.diff(x))\n",
        "min = Min(F.subs(x, a), F.subs(x, b))\n",
        "max = Max(F.subs(x, a), F.subs(x, b))\n",
        "for x0 in diff1:\n",
        "    min = Min(min, F.subs(x, x0))\n",
        "    max = Max(max, F.subs(x, x0))\n",
        "print('Минимальное значение: ', min)\n",
        "print('Максимальное значение: ', max)"
      ],
      "metadata": {
        "colab": {
          "base_uri": "https://localhost:8080/"
        },
        "id": "SgewDXLH6Yvt",
        "outputId": "ffbb67f6-5674-4870-b2ec-3b47eb8c5e7e"
      },
      "execution_count": null,
      "outputs": [
        {
          "output_type": "stream",
          "name": "stdout",
          "text": [
            "f(x) = -x + (x + 2)**2\n",
            "первая производная: 2*x + 3\n",
            "вторая производная: 2\n",
            "Минимальное значение:  7/4\n",
            "Максимальное значение:  32\n"
          ]
        }
      ]
    },
    {
      "cell_type": "code",
      "source": [
        "import numpy as np\n",
        "import matplotlib.pyplot as plt\n"
      ],
      "metadata": {
        "id": "HNSlTqJfMmiv"
      },
      "execution_count": null,
      "outputs": []
    },
    {
      "cell_type": "code",
      "source": [
        "x = np.linspace(a, b, 100)\n",
        "plt.plot(x, -x + (x + 2)**2);"
      ],
      "metadata": {
        "id": "XM6J58eV7qUA",
        "colab": {
          "base_uri": "https://localhost:8080/",
          "height": 430
        },
        "outputId": "bab13c9b-3e7e-4284-ad2c-961e5c73745f"
      },
      "execution_count": null,
      "outputs": [
        {
          "output_type": "display_data",
          "data": {
            "text/plain": [
              "<Figure size 640x480 with 1 Axes>"
            ],
            "image/png": "[encoded data removed]"
          },
          "metadata": {}
        }
      ]
    },
    {
      "cell_type": "markdown",
      "source": [
        "#Other tasks"
      ],
      "metadata": {
        "id": "9asAyJJCD1if"
      }
    },
    {
      "cell_type": "markdown",
      "source": [
        "![photo_2023-05-17_21-53-14.jpg](data:image/jpeg;base64,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)"
      ],
      "metadata": {
        "id": "xPtCQHdCEFYD"
      }
    },
    {
      "cell_type": "markdown",
      "source": [
        "#Task1"
      ],
      "metadata": {
        "id": "wuuPj3futj5F"
      }
    },
    {
      "cell_type": "code",
      "source": [
        "limit(1-4*x**3, x, -9)"
      ],
      "metadata": {
        "colab": {
          "base_uri": "https://localhost:8080/",
          "height": 37
        },
        "id": "08-g7O_ttig-",
        "outputId": "15dbf99c-8fff-40f2-b6c3-d302e239aff4"
      },
      "execution_count": 89,
      "outputs": [
        {
          "output_type": "execute_result",
          "data": {
            "text/plain": [
              "2917"
            ],
            "text/latex": "$\\displaystyle 2917$"
          },
          "metadata": {},
          "execution_count": 89
        }
      ]
    },
    {
      "cell_type": "code",
      "source": [
        "limit((5*x**2 - 16*x + 3) / (9 - x**2), x, 3)"
      ],
      "metadata": {
        "colab": {
          "base_uri": "https://localhost:8080/",
          "height": 51
        },
        "id": "tAOjQJaEwIyD",
        "outputId": "ec6048be-ffe2-464f-8b36-a1d7da4c2f57"
      },
      "execution_count": 90,
      "outputs": [
        {
          "output_type": "execute_result",
          "data": {
            "text/plain": [
              "-7/3"
            ],
            "text/latex": "$\\displaystyle - \\frac{7}{3}$"
          },
          "metadata": {},
          "execution_count": 90
        }
      ]
    },
    {
      "cell_type": "code",
      "source": [
        "limit((x*(x-5) - 24) / (x**2 - 8*x), x, 8)"
      ],
      "metadata": {
        "colab": {
          "base_uri": "https://localhost:8080/",
          "height": 51
        },
        "id": "_Zfhfo7jw81C",
        "outputId": "78d5dce2-d690-4c96-cb06-f3ac25203390"
      },
      "execution_count": 93,
      "outputs": [
        {
          "output_type": "execute_result",
          "data": {
            "text/plain": [
              "11/8"
            ],
            "text/latex": "$\\displaystyle \\frac{11}{8}$"
          },
          "metadata": {},
          "execution_count": 93
        }
      ]
    },
    {
      "cell_type": "code",
      "source": [
        "limit(((2+x)**3 - 8) / x, x, 0)"
      ],
      "metadata": {
        "colab": {
          "base_uri": "https://localhost:8080/",
          "height": 37
        },
        "id": "x9Dte3VQyLNw",
        "outputId": "6ced8e97-284d-43b8-f8ab-1ee1a133533b"
      },
      "execution_count": 94,
      "outputs": [
        {
          "output_type": "execute_result",
          "data": {
            "text/plain": [
              "12"
            ],
            "text/latex": "$\\displaystyle 12$"
          },
          "metadata": {},
          "execution_count": 94
        }
      ]
    },
    {
      "cell_type": "code",
      "source": [
        "limit(((1+x)**4 - 1) / x, x, 0)"
      ],
      "metadata": {
        "colab": {
          "base_uri": "https://localhost:8080/",
          "height": 37
        },
        "id": "QBXe9QP4yp5F",
        "outputId": "b6ead74a-68f3-42ca-c411-031e8743740b"
      },
      "execution_count": 95,
      "outputs": [
        {
          "output_type": "execute_result",
          "data": {
            "text/plain": [
              "4"
            ],
            "text/latex": "$\\displaystyle 4$"
          },
          "metadata": {},
          "execution_count": 95
        }
      ]
    },
    {
      "cell_type": "markdown",
      "source": [
        "#Task2"
      ],
      "metadata": {
        "id": "92W2ey0HFhOQ"
      }
    },
    {
      "cell_type": "code",
      "source": [
        "integrate(sin(pi * x), x)"
      ],
      "metadata": {
        "colab": {
          "base_uri": "https://localhost:8080/",
          "height": 0
        },
        "id": "BWC1wmrVEkL4",
        "outputId": "d7d1f0a5-0241-4356-90b1-78afd8b6b6db"
      },
      "execution_count": 5,
      "outputs": [
        {
          "output_type": "execute_result",
          "data": {
            "text/plain": [
              "-cos(π⋅x) \n",
              "──────────\n",
              "    π     "
            ],
            "text/latex": "$\\displaystyle - \\frac{\\cos{\\left(\\pi x \\right)}}{\\pi}$"
          },
          "metadata": {},
          "execution_count": 5
        }
      ]
    },
    {
      "cell_type": "code",
      "source": [
        "integrate(x**2 / sqrt(1-x)  , x) #чзх"
      ],
      "metadata": {
        "colab": {
          "base_uri": "https://localhost:8080/",
          "height": 0
        },
        "id": "kW9Z2zrfGJuU",
        "outputId": "8307fdfe-1c80-46ac-a1e6-29f8955ded03"
      },
      "execution_count": 40,
      "outputs": [
        {
          "output_type": "execute_result",
          "data": {
            "text/plain": [
              "⎧       2   _______           _______          _______             \n",
              "⎪  2⋅ⅈ⋅x ⋅╲╱ x - 1    8⋅ⅈ⋅x⋅╲╱ x - 1    16⋅ⅈ⋅╲╱ x - 1              \n",
              "⎪- ──────────────── - ─────────────── - ──────────────  for │x│ > 1\n",
              "⎪         5                  15               15                   \n",
              "⎨                                                                  \n",
              "⎪        2   _______         _______        _______                \n",
              "⎪     2⋅x ⋅╲╱ 1 - x    8⋅x⋅╲╱ 1 - x    16⋅╲╱ 1 - x                 \n",
              "⎪   - ────────────── - ───────────── - ────────────      otherwise \n",
              "⎩           5                15             15                     "
            ],
            "text/latex": "$\\displaystyle \\begin{cases} - \\frac{2 i x^{2} \\sqrt{x - 1}}{5} - \\frac{8 i x \\sqrt{x - 1}}{15} - \\frac{16 i \\sqrt{x - 1}}{15} & \\text{for}\\: \\left|{x}\\right| > 1 \\\\- \\frac{2 x^{2} \\sqrt{1 - x}}{5} - \\frac{8 x \\sqrt{1 - x}}{15} - \\frac{16 \\sqrt{1 - x}}{15} & \\text{otherwise} \\end{cases}$"
          },
          "metadata": {},
          "execution_count": 40
        }
      ]
    },
    {
      "cell_type": "code",
      "source": [
        "integrate(tan(x**2), (x, 1, 2)).evalf()\n"
      ],
      "metadata": {
        "colab": {
          "base_uri": "https://localhost:8080/",
          "height": 0
        },
        "id": "upid9PPEQRGx",
        "outputId": "354ef8f6-d7a1-4335-a03c-515a9f942662"
      },
      "execution_count": 44,
      "outputs": [
        {
          "output_type": "execute_result",
          "data": {
            "text/plain": [
              "0.e+0"
            ],
            "text/latex": "$\\displaystyle 4.0$"
          },
          "metadata": {},
          "execution_count": 44
        }
      ]
    },
    {
      "cell_type": "markdown",
      "source": [
        "#Task3"
      ],
      "metadata": {
        "id": "JhngXG6xXpWY"
      }
    },
    {
      "cell_type": "code",
      "source": [
        "a, b = symbols(\"a b\")\n",
        "A = Matrix([[a, 3], [7, b]]); A"
      ],
      "metadata": {
        "colab": {
          "base_uri": "https://localhost:8080/",
          "height": 58
        },
        "id": "IqKtBiO-Kso7",
        "outputId": "b5f9759e-a3a6-467e-bc04-763a3548e82e"
      },
      "execution_count": 46,
      "outputs": [
        {
          "output_type": "execute_result",
          "data": {
            "text/plain": [
              "⎡a  3⎤\n",
              "⎢    ⎥\n",
              "⎣7  b⎦"
            ],
            "text/latex": "$\\displaystyle \\left[\\begin{matrix}a & 3\\\\7 & b\\end{matrix}\\right]$"
          },
          "metadata": {},
          "execution_count": 46
        }
      ]
    },
    {
      "cell_type": "code",
      "source": [
        "lambda1, lambda2 = A.eigenvals()\n",
        "lambda1, lambda2"
      ],
      "metadata": {
        "colab": {
          "base_uri": "https://localhost:8080/",
          "height": 68
        },
        "id": "uUxwJ0C4b0ON",
        "outputId": "a5dda2aa-8227-4487-8cef-5f30aba187c5"
      },
      "execution_count": 48,
      "outputs": [
        {
          "output_type": "execute_result",
          "data": {
            "text/plain": [
              "⎛           ______________________             ______________________⎞\n",
              "⎜          ╱  2            2                  ╱  2            2      ⎟\n",
              "⎜a   b   ╲╱  a  - 2⋅a⋅b + b  + 84   a   b   ╲╱  a  - 2⋅a⋅b + b  + 84 ⎟\n",
              "⎜─ + ─ - ─────────────────────────, ─ + ─ + ─────────────────────────⎟\n",
              "⎝2   2               2              2   2               2            ⎠"
            ],
            "text/latex": "$\\displaystyle \\left( \\frac{a}{2} + \\frac{b}{2} - \\frac{\\sqrt{a^{2} - 2 a b + b^{2} + 84}}{2}, \\  \\frac{a}{2} + \\frac{b}{2} + \\frac{\\sqrt{a^{2} - 2 a b + b^{2} + 84}}{2}\\right)$"
          },
          "metadata": {},
          "execution_count": 48
        }
      ]
    },
    {
      "cell_type": "code",
      "source": [
        "lambda1.evalf(subs = {a:5, b:7}), lambda2.evalf(subs = {a:5, b:7})"
      ],
      "metadata": {
        "colab": {
          "base_uri": "https://localhost:8080/",
          "height": 37
        },
        "id": "JakBXidGddGm",
        "outputId": "624ba30d-7c9f-4c69-f151-4173fbd5890b"
      },
      "execution_count": 51,
      "outputs": [
        {
          "output_type": "execute_result",
          "data": {
            "text/plain": [
              "(1.30958424017657, 10.6904157598234)"
            ],
            "text/latex": "$\\displaystyle \\left( 1.30958424017657, \\  10.6904157598234\\right)$"
          },
          "metadata": {},
          "execution_count": 51
        }
      ]
    },
    {
      "cell_type": "code",
      "source": [
        "v1, v2 = A.eigenvects()\n",
        "v1, v2 = v1[2][0], v2[2][0]\n",
        "v1, v2"
      ],
      "metadata": {
        "colab": {
          "base_uri": "https://localhost:8080/",
          "height": 61
        },
        "id": "d_Nwd5aUh59o",
        "outputId": "04f4cdb4-d1e5-4261-a31b-0443b3b9d62e"
      },
      "execution_count": 68,
      "outputs": [
        {
          "output_type": "execute_result",
          "data": {
            "text/plain": [
              "⎛⎡             ______________________⎤  ⎡             ______________________⎤⎞\n",
              "⎜⎢            ╱  2            2      ⎥  ⎢            ╱  2            2      ⎥⎟\n",
              "⎜⎢a    b    ╲╱  a  - 2⋅a⋅b + b  + 84 ⎥  ⎢a    b    ╲╱  a  - 2⋅a⋅b + b  + 84 ⎥⎟\n",
              "⎜⎢── - ── - ─────────────────────────⎥, ⎢── - ── + ─────────────────────────⎥⎟\n",
              "⎜⎢14   14               14           ⎥  ⎢14   14               14           ⎥⎟\n",
              "⎜⎢                                   ⎥  ⎢                                   ⎥⎟\n",
              "⎝⎣                 1                 ⎦  ⎣                 1                 ⎦⎠"
            ],
            "text/latex": "$\\displaystyle \\left( \\left[\\begin{matrix}\\frac{a}{14} - \\frac{b}{14} - \\frac{\\sqrt{a^{2} - 2 a b + b^{2} + 84}}{14}\\\\1\\end{matrix}\\right], \\  \\left[\\begin{matrix}\\frac{a}{14} - \\frac{b}{14} + \\frac{\\sqrt{a^{2} - 2 a b + b^{2} + 84}}{14}\\\\1\\end{matrix}\\right]\\right)$"
          },
          "metadata": {},
          "execution_count": 68
        }
      ]
    },
    {
      "cell_type": "code",
      "source": [
        "# prod = v1[0]*v2[0] + v1[1]*v2[1]; prod\n",
        "# type(prod)\n",
        "from sympy.vector import CoordSys3D\n",
        "N = CoordSys3D('N')\n",
        "v1.dot(v2).expand()"
      ],
      "metadata": {
        "colab": {
          "base_uri": "https://localhost:8080/",
          "height": 51
        },
        "id": "EXMYpZpMjyNO",
        "outputId": "0862db4a-2a16-4f4a-add1-907daa39beb6"
      },
      "execution_count": 87,
      "outputs": [
        {
          "output_type": "execute_result",
          "data": {
            "text/plain": [
              "4/7"
            ],
            "text/latex": "$\\displaystyle \\frac{4}{7}$"
          },
          "metadata": {},
          "execution_count": 87
        }
      ]
    },
    {
      "cell_type": "code",
      "source": [
        "a1 = v1[0]*N.i + v1[1]*N.j + 0*N.k\n",
        "a2 = v2[0]*N.i + v2[1]*N.j + 0*N.k\n",
        "a1.dot(a2).expand()"
      ],
      "metadata": {
        "colab": {
          "base_uri": "https://localhost:8080/",
          "height": 51
        },
        "id": "CmMtJy7QlPlF",
        "outputId": "219e4d8a-cec6-49a0-a104-9d27b9a2f033"
      },
      "execution_count": 88,
      "outputs": [
        {
          "output_type": "execute_result",
          "data": {
            "text/plain": [
              "4/7"
            ],
            "text/latex": "$\\displaystyle \\frac{4}{7}$"
          },
          "metadata": {},
          "execution_count": 88
        }
      ]
    }
  ]
}