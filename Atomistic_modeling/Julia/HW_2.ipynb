{
 "cells": [
  {
   "cell_type": "code",
   "execution_count": 17,
   "id": "7c1c701e",
   "metadata": {},
   "outputs": [
    {
     "ename": "LoadError",
     "evalue": "syntax: missing comma or ) in argument list",
     "output_type": "error",
     "traceback": [
      "syntax: missing comma or ) in argument list",
      "",
      "Stacktrace:",
      " [1] top-level scope",
      "   @ In[17]:102"
     ]
    }
   ],
   "source": [
    "module Points\n",
    "\n",
    "# export, using, import statements are usually here\n",
    "using LinearAlgebra\n",
    "\n",
    "# Следющие имена должны быть публичными:\n",
    "# Point, neighbors, Circle, Square, center\n",
    "export Point, neighbors, Circle, Square, center, dist\n",
    "\n",
    "\"\"\"\n",
    "    Point(x, y)\n",
    "\n",
    "Точка на декартовой плоскости.\n",
    "\"\"\"\n",
    "# struct Point{T<:Real}                             # типы полей одного типа\n",
    "struct Point{T1<:Real, T2<:Real}                    # типы полей м.б. разного типа, но ниже мы приводим их при вызове\n",
    "    x::T1\n",
    "    y::T2\n",
    "end\n",
    "\n",
    "Point(x::Real, y::Real) = Point(promote(x, y)...)   # приводит типы x и y\n",
    "\n",
    "x(p::Point) = p.x\n",
    "y(p::Point) = p.y\n",
    "\n",
    "Base.:+(p1::Point, p2::Point) = Point(p1.x + p2.x, p1.y + p2.y)        # сложение\n",
    "Base.:*(a::Number, p::Point) = Point(a * p.x, a * p.y)                 # умножения на скаляр\n",
    "Base.:*(p::Point, a::Number) = Point(a * p.x, a * p.y)\n",
    "Base.:-(p1::Point, p2::Point) = p1 + (-1) * p2                         # вычитание\n",
    "Base.:/(p::Point, a::Number) = Point(p.x / a, p.y / a)                 # деление на 0 (деление на 0 не обрабатывается)\n",
    "\n",
    "# перегрузка операторов из иодуля LinearAlgebra\n",
    "LinearAlgebra.dot(p1::Point, p2::Point) = p1.x * p2.x + p1.y * p2.y    # скалярное умножение\n",
    "LinearAlgebra.norm(p::Point) = sqrt(LinearAlgebra.dot(p, p))           # евклидова норма вектора\n",
    "\n",
    "\"\"\"\n",
    "    center(points) -> Point\n",
    "\n",
    "Центр \"масс\" точек.\n",
    "\"\"\"\n",
    "function center(points::AbstractVector{<:Point})::Point\n",
    "    return sum(points) / length(points)\n",
    "end\n",
    "\n",
    "\"\"\"\n",
    "    neighbors(points, origin, k) -> Vector{Point}\n",
    "\n",
    "Поиск ближайших `k` соседей точки `origin` среди точек `points`.\n",
    "\"\"\"\n",
    "function dist(p1::Point, p2::Point)\n",
    "    return LinearAlgebra.norm(p2 - p1)\n",
    "end\n",
    "\n",
    "function neighbors(points::AbstractVector{<:Point}, origin::Point, k::Int)::Vector{<:Point}\n",
    "    if k <= 0\n",
    "        return \"Can't found neighbors\"\n",
    "    end\n",
    "    points_upd = filter((p) -> p != origin, points)\n",
    "    sort!(points_upd, by = (p -> dist(origin, p)))\n",
    "    if len(points_upd) < k\n",
    "        println(\"Only \", len(points_upd), \" neighbors in given vector \\n\")\n",
    "    end\n",
    "    return points_upd[1:min(k, len(points_upd))]\n",
    "end\n",
    "\n",
    "\"\"\"\n",
    "    Circle(o::Point, radius)\n",
    "\n",
    "Круг с центром `o` и радиусом `radius`.\n",
    "\"\"\"\n",
    "struct Circle{T::Real}\n",
    "    o::Point\n",
    "    radius::T\n",
    "end\n",
    "            \n",
    "o(circ::Circle) = circ.o\n",
    "radius(circ::Circle) = circ.radius\n",
    "\n",
    "\"\"\"\n",
    "    Square(o::Point, side)\n",
    "\n",
    "Квадрат с центром в `o` и стороной `side`. Стороны квадрата параллельны осям координат.\n",
    "\"\"\"\n",
    "struct Square{T::Real}\n",
    "    o::Point \n",
    "    side::T\n",
    "end\n",
    "                \n",
    "o(sq::Square) = sq.o\n",
    "side(sq::Square) = sq.side\n",
    "\n",
    "Base.:(in)(p::Point, area::Circle) = (dist(p, area.o) <= area.radius)\n",
    "Base.:(in)(p::Point, area::Square) = ((abs(p.x - area.o.x) <= (area.side / 2)) && (abs(p.y - area.o.y) <= (area.side / 2)))\n",
    "                \n",
    "\"\"\"\n",
    "    center(points, area) -> Point\n",
    "\n",
    "Центр масс точек `points`, принадлежащих области `area` (`Circle` или `Square`).\n",
    "\"\"\"\n",
    "function center(points::AbstractVector{<:Point}, area)::Point\n",
    "    return center(filter((p) -> p in area, points))\n",
    "end\n",
    "\n",
    "end # module"
   ]
  },
  {
   "cell_type": "code",
   "execution_count": 12,
   "id": "95d351ab",
   "metadata": {},
   "outputs": [
    {
     "data": {
      "text/plain": [
       "22.666666666666668"
      ]
     },
     "execution_count": 12,
     "metadata": {},
     "output_type": "execute_result"
    }
   ],
   "source": [
    "x = -1/3\n",
    "y = 23\n",
    "f(x, y) = x + y\n",
    "f(x, y)\n",
    "# promote(x, y)..."
   ]
  },
  {
   "cell_type": "code",
   "execution_count": 14,
   "id": "0ccfcd85",
   "metadata": {},
   "outputs": [
    {
     "data": {
      "text/plain": [
       "3.666666666666667"
      ]
     },
     "execution_count": 14,
     "metadata": {},
     "output_type": "execute_result"
    }
   ],
   "source": [
    "a = [-1/3, 2, 2.]\n",
    "sum(a)"
   ]
  },
  {
   "cell_type": "code",
   "execution_count": 16,
   "id": "930c1442",
   "metadata": {},
   "outputs": [
    {
     "data": {
      "text/plain": [
       "0.0"
      ]
     },
     "execution_count": 16,
     "metadata": {},
     "output_type": "execute_result"
    }
   ],
   "source": [
    "x = 1\n",
    "x += -1."
   ]
  },
  {
   "cell_type": "code",
   "execution_count": null,
   "id": "ad3774de",
   "metadata": {},
   "outputs": [],
   "source": []
  }
 ],
 "metadata": {
  "kernelspec": {
   "display_name": "Julia 1.9.3",
   "language": "julia",
   "name": "julia-1.9"
  },
  "language_info": {
   "file_extension": ".jl",
   "mimetype": "application/julia",
   "name": "julia",
   "version": "1.9.3"
  }
 },
 "nbformat": 4,
 "nbformat_minor": 5
}
