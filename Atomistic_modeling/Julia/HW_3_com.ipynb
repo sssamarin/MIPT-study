{
 "cells": [
  {
   "cell_type": "code",
   "execution_count": 76,
   "id": "fa56e583",
   "metadata": {},
   "outputs": [],
   "source": [
    "using LinearAlgebra"
   ]
  },
  {
   "cell_type": "markdown",
   "id": "06e307cb",
   "metadata": {},
   "source": [
    "# task 1"
   ]
  },
  {
   "cell_type": "code",
   "execution_count": 77,
   "id": "33467cc5",
   "metadata": {},
   "outputs": [
    {
     "data": {
      "text/plain": [
       "backwardsub! (generic function with 1 method)"
      ]
     },
     "execution_count": 77,
     "metadata": {},
     "output_type": "execute_result"
    }
   ],
   "source": [
    "#! Для написания документации стоило ознакомиться с https://docs.julialang.org/en/v1/manual/documentation/\n",
    "\n",
    "    \"\"\"\n",
    "    Функция решает уравнение вида Lx = b. \\n\n",
    "    Она принимает на вход матрицу L::AbstractMatrix и правую часть b::AbstractVector. \\n\n",
    "    Далее происходит проверка размерности и принадлежности матрицы L к нижнетреугольным матрицам. \\n\n",
    "    Далее в цикле происходит проверка матрицы на невырожденность и в этом же цикле происходит\n",
    "    вычисление элемента вектора решения.\n",
    "    \"\"\"\n",
    "function forwardsub(L::AbstractMatrix, b::AbstractVector)\n",
    "    #! В julia док-строка приписывается к объекту сверху.\n",
    "    \n",
    "    \"\"\"\n",
    "    Функция решает уравнение вида Lx = b. \\n\n",
    "    Она принимает на вход матрицу L::AbstractMatrix и правую часть b::AbstractVector. \\n\n",
    "    Далее происходит проверка размерности и принадлежности матрицы L к нижнетреугольным матрицам. \\n\n",
    "    Далее в цикле происходит проверка матрицы на невырожденность и в этом же цикле происходит\n",
    "    вычисление элемента вектора решения.\n",
    "    \"\"\"\n",
    "    \n",
    "    #! size(b, 1) != size(L, 1) || ...\n",
    "    if size(b)[1] != size(L)[1] || size(b)[1] != size(L)[2]\n",
    "        return \"Size of given system is incorrect\"  #! throw(DimensionMismatch(\"...\"))\n",
    "\n",
    "    #! LinearAlgebra.istril(L)\n",
    "    elseif L != LowerTriangular(L)\n",
    "        return \"L matrix is not lower triangular\"  #! throw(...)\n",
    "    else\n",
    "        x = zeros(Float64, size(b))\n",
    "        \n",
    "        #! DRY: ниже есть код forwardsub!(x, L, b)\n",
    "        #! return forwardsub!(x, L, b)\n",
    "        for i in 1:(size(b)[1])\n",
    "            if L[i,i] == 0\n",
    "                return \"det(L) = 0\"  #! throw(LinearAlgebra.SingularException(\"...\"))\n",
    "            end\n",
    "            x[i] = (b[i] - sum(x.*L[i,:]))/L[i,i]\n",
    "        end\n",
    "        return x\n",
    "    end\n",
    "    \n",
    "    #! Плохо со стабильностью типов.\n",
    "    #! Если операцию (решение системы) нельзя выполнить, то лучше выбрасывать ошибку об этом, а не возвращать строку.\n",
    "    \n",
    "    #! Используйте guard-if для меньшей вложенности кода (и, как следствие, лучшей читаемости).\n",
    "    #! Т.е.\n",
    "    #! size(b, 1) != size(L, 1) || size(b, 1) != size(L, 2) && throw(DimensionMismatch(\"...\"))  # или через if\n",
    "    #! !LinearAlgebra.istril(L) && throw(...)  # или через if\n",
    "    #! Основной случай -- алгоритм подстановки\n",
    "end\n",
    "\n",
    "function forwardsub!(x::AbstractVector, L::AbstractMatrix, b::AbstractVector)\n",
    "    if size(b)[1] != size(L)[1] || size(b)[1] != size(L)[2]\n",
    "        return \"Size of given system is incorrect\"\n",
    "    elseif L != LowerTriangular(L)\n",
    "        return \"L matrix is not lower triangular\"\n",
    "    else\n",
    "#         x = zeros(size(b))\n",
    "\n",
    "        #! Если подадут ненулевой x, код не заработает\n",
    "        fill!(x, zero(eltype(x)))  #!\n",
    "        \n",
    "        for i in 1:(size(b)[1])\n",
    "            if L[i,i] == 0\n",
    "                return \"det(L) = 0\"\n",
    "            end\n",
    "            x[i] = (b[i] - sum(x.*L[i,:]))/L[i,i]\n",
    "        end\n",
    "        return x\n",
    "    end\n",
    "end\n",
    "\n",
    "    \"\"\"\n",
    "    Функция решает уравнение вида Lx = b. \\n\n",
    "    Она принимает на вход матрицу L::AbstractMatrix и правую часть b::AbstractVector. \\n\n",
    "    Далее происходит проверка размерности и принадлежности матрицы L к нижнетреугольным матрицам. \\n\n",
    "    Далее в цикле происходит проверка матрицы на невырожденность и в этом же цикле происходит\n",
    "    вычисление элемента вектора решения\n",
    "    \"\"\"\n",
    "function backwardsub(U::AbstractMatrix, b::AbstractVector)\n",
    "    if size(b)[1] != size(U)[1] || size(b)[1] != size(U)[2]\n",
    "        return \"Size of given system is incorrect\"\n",
    "    elseif U != UpperTriangular(U)\n",
    "        return \"U matrix is not lower triangular\"\n",
    "    else\n",
    "        x = zeros(Float64, size(b))\n",
    "        \n",
    "        #! for in size(b, 1):-1:1\n",
    "        for i in collect(size(b)[1]:-1:1)\n",
    "            if U[i,i] == 0\n",
    "                return \"det(U) = 0\"\n",
    "            end\n",
    "            x[i] = (b[i] - sum(x.*U[i, :]))/U[i,i]\n",
    "        end\n",
    "        return x\n",
    "    end\n",
    "    \n",
    "    #! В целом те же замечания, что и для forwardsub\n",
    "end\n",
    "\n",
    "function backwardsub!(x::AbstractVector, U::AbstractMatrix, b::AbstractVector)\n",
    "    if size(b)[1] != size(U)[1] || size(b)[1] != size(U)[2]\n",
    "        return \"Size of given system is incorrect\"\n",
    "    elseif U != UpperTriangular(U)\n",
    "        return \"U matrix is not lower triangular\"\n",
    "    else\n",
    "#         x = zeros(size(b))\n",
    "        \n",
    "        #! Если подадут ненулевой x, код не заработает\n",
    "        fill!(x, zero(eltype(x)))  #!\n",
    "        \n",
    "        for i in collect(size(b)[1]:-1:1)\n",
    "            if U[i,i] == 0\n",
    "                return \"det(U) = 0\"\n",
    "            end\n",
    "            x[i] = (b[i] - sum(x.*U[i,:]))/U[i,i]\n",
    "        end\n",
    "        return x\n",
    "    end\n",
    "end"
   ]
  },
  {
   "cell_type": "code",
   "execution_count": 78,
   "id": "47d24f4a",
   "metadata": {},
   "outputs": [
    {
     "data": {
      "text/plain": [
       "3-element Vector{Int64}:\n",
       " 1\n",
       " 2\n",
       " 3"
      ]
     },
     "execution_count": 78,
     "metadata": {},
     "output_type": "execute_result"
    }
   ],
   "source": [
    "x = [0., 0., 0.]\n",
    "L = [2 0 0; 1 1 0; 0 0 1]\n",
    "U = [1 2 3; 0 5 6; 0 0 9]\n",
    "b = [1, 2, 3]"
   ]
  },
  {
   "cell_type": "code",
   "execution_count": 79,
   "id": "1858ce04",
   "metadata": {},
   "outputs": [
    {
     "name": "stdout",
     "output_type": "stream",
     "text": [
      "[0.5, 1.5, 3.0]"
     ]
    }
   ],
   "source": [
    "print(forwardsub(L, b))"
   ]
  },
  {
   "cell_type": "code",
   "execution_count": 80,
   "id": "5838c02b",
   "metadata": {},
   "outputs": [
    {
     "name": "stdout",
     "output_type": "stream",
     "text": [
      "[0.0, 0.0, 0.3333333333333333]"
     ]
    }
   ],
   "source": [
    "print(backwardsub(U, b))"
   ]
  },
  {
   "cell_type": "code",
   "execution_count": 81,
   "id": "c635bec2",
   "metadata": {},
   "outputs": [
    {
     "name": "stdout",
     "output_type": "stream",
     "text": [
      "L * forwardsub(L, b) - b = [0.0, 0.0, 0.0]\n",
      "U * backwardsub(U, b) - b = [0.0, 0.0, 0.0]\n"
     ]
    }
   ],
   "source": [
    "#!\n",
    "@show L * forwardsub(L, b) - b;\n",
    "@show U * backwardsub(U, b) - b;"
   ]
  },
  {
   "cell_type": "code",
   "execution_count": 82,
   "id": "25f3fb99",
   "metadata": {},
   "outputs": [
    {
     "name": "stdout",
     "output_type": "stream",
     "text": [
      "search: \u001b[0m\u001b[1mb\u001b[22m\u001b[0m\u001b[1ma\u001b[22m\u001b[0m\u001b[1mc\u001b[22m\u001b[0m\u001b[1mk\u001b[22m\u001b[0m\u001b[1mw\u001b[22m\u001b[0m\u001b[1ma\u001b[22m\u001b[0m\u001b[1mr\u001b[22m\u001b[0m\u001b[1md\u001b[22m\u001b[0m\u001b[1ms\u001b[22m\u001b[0m\u001b[1mu\u001b[22m\u001b[0m\u001b[1mb\u001b[22m \u001b[0m\u001b[1mb\u001b[22m\u001b[0m\u001b[1ma\u001b[22m\u001b[0m\u001b[1mc\u001b[22m\u001b[0m\u001b[1mk\u001b[22m\u001b[0m\u001b[1mw\u001b[22m\u001b[0m\u001b[1ma\u001b[22m\u001b[0m\u001b[1mr\u001b[22m\u001b[0m\u001b[1md\u001b[22m\u001b[0m\u001b[1ms\u001b[22m\u001b[0m\u001b[1mu\u001b[22m\u001b[0m\u001b[1mb\u001b[22m!\n",
      "\n"
     ]
    },
    {
     "data": {
      "text/latex": [
       "Функция решает уравнение вида Lx = b. \n",
       "\n",
       "Она принимает на вход матрицу L::AbstractMatrix и правую часть b::AbstractVector. \n",
       "\n",
       "Далее происходит проверка размерности и принадлежности матрицы L к нижнетреугольным матрицам. \n",
       "\n",
       "Далее в цикле происходит проверка матрицы на невырожденность и в этом же цикле происходит вычисление элемента вектора решения\n",
       "\n"
      ],
      "text/markdown": [
       "Функция решает уравнение вида Lx = b. \n",
       "\n",
       "Она принимает на вход матрицу L::AbstractMatrix и правую часть b::AbstractVector. \n",
       "\n",
       "Далее происходит проверка размерности и принадлежности матрицы L к нижнетреугольным матрицам. \n",
       "\n",
       "Далее в цикле происходит проверка матрицы на невырожденность и в этом же цикле происходит вычисление элемента вектора решения\n"
      ],
      "text/plain": [
       "  Функция решает уравнение вида Lx = b.\n",
       "\n",
       "  Она принимает на вход матрицу L::AbstractMatrix и правую часть\n",
       "  b::AbstractVector.\n",
       "\n",
       "  Далее происходит проверка размерности и принадлежности матрицы L к\n",
       "  нижнетреугольным матрицам.\n",
       "\n",
       "  Далее в цикле происходит проверка матрицы на невырожденность и в этом же\n",
       "  цикле происходит вычисление элемента вектора решения"
      ]
     },
     "execution_count": 82,
     "metadata": {},
     "output_type": "execute_result"
    }
   ],
   "source": [
    "?backwardsub"
   ]
  },
  {
   "cell_type": "code",
   "execution_count": 83,
   "id": "6832c015",
   "metadata": {},
   "outputs": [
    {
     "name": "stdout",
     "output_type": "stream",
     "text": [
      "[0.0, 0.0, 0.3333333333333333]"
     ]
    }
   ],
   "source": [
    "print(backwardsub!(x, U, b))"
   ]
  },
  {
   "cell_type": "code",
   "execution_count": 84,
   "id": "9f448067",
   "metadata": {},
   "outputs": [
    {
     "name": "stdout",
     "output_type": "stream",
     "text": [
      "L \\ b - x = [0.0, 0.0, 0.0]\n",
      "L * x - b = [0.0, 0.0, 0.0]\n",
      "U \\ b - x = [0.0, 0.0, 0.0]\n",
      "U * x - b = [0.0, 0.0, 0.0]\n"
     ]
    },
    {
     "data": {
      "text/plain": [
       "3-element Vector{Float64}:\n",
       " 0.0\n",
       " 0.0\n",
       " 0.0"
      ]
     },
     "execution_count": 84,
     "metadata": {},
     "output_type": "execute_result"
    }
   ],
   "source": [
    "#!\n",
    "# x = [0., 0., 0.]\n",
    "L = [2 0 0; 1 1 0; 0 0 1]\n",
    "U = [1 2 3; 0 5 6; 0 0 9]\n",
    "b = [1, 2, 3]\n",
    "\n",
    "x = float.(similar(b))\n",
    "x = forwardsub!(x, L, b)\n",
    "@show L \\ b - x\n",
    "@show L * x - b\n",
    "\n",
    "x = backwardsub!(x, U, b)\n",
    "@show U \\ b - x\n",
    "@show U * x - b"
   ]
  },
  {
   "cell_type": "markdown",
   "id": "e80d83db",
   "metadata": {},
   "source": [
    "# task 2"
   ]
  },
  {
   "cell_type": "code",
   "execution_count": 85,
   "id": "17f81a7c",
   "metadata": {},
   "outputs": [
    {
     "data": {
      "text/plain": [
       "tridiagsolve (generic function with 2 methods)"
      ]
     },
     "execution_count": 85,
     "metadata": {},
     "output_type": "execute_result"
    }
   ],
   "source": [
    "function tridiagsolve(a::AbstractVector, b::AbstractVector, c::AbstractVector, f::AbstractVector)\n",
    "    #! a, b, c, f = float.(a), float.(b), float.(c), float.(f)\n",
    "    а, b, c, f = Float64.(a), Float64.(b), Float64.(c), Float64.(f)\n",
    "    for i in collect(2:size(b)[1])\n",
    "        b[i] = b[i] - a[i-1]/b[i-1]*c[i-1]\n",
    "        f[i] = f[i] - a[i-1]/b[i-1]*f[i-1]\n",
    "    end\n",
    "#     x = zeros(Float64, n)\n",
    "#     x[n] = f[n] / b[n]\n",
    "#     for i in range(n-1, 1, step=-1)\n",
    "#         x[i] = f[i] - c[i] * x[i+1]\n",
    "#     end\n",
    "#     return x\n",
    "    return backwardsub(Tridiagonal(zeros(size(b)[1]-1), b, c), f)\n",
    "end\n",
    "\n",
    "function tridiagsolve(A::Tridiagonal, f)\n",
    "    \n",
    "    #! d1 == A.dl, d2 == A.d, d3 == A.du\n",
    "    d1, d2, d3 = diag(A, -1), diag(A), diag(A, 1)\n",
    "    return tridiagsolve(d1, d2, d3, f)\n",
    "end"
   ]
  },
  {
   "cell_type": "code",
   "execution_count": 86,
   "id": "e35e0e75",
   "metadata": {},
   "outputs": [
    {
     "data": {
      "text/plain": [
       "4×4 Tridiagonal{Int64, Vector{Int64}}:\n",
       " 2  1  ⋅  ⋅\n",
       " 1  2  1  ⋅\n",
       " ⋅  1  2  1\n",
       " ⋅  ⋅  1  2"
      ]
     },
     "execution_count": 86,
     "metadata": {},
     "output_type": "execute_result"
    }
   ],
   "source": [
    "a = [1, 1, 1]\n",
    "b = [2, 2, 2, 2]\n",
    "c = [1, 1, 1]\n",
    "f = [1, 2, 3, 4]\n",
    "A = Tridiagonal(a, b, c)\n"
   ]
  },
  {
   "cell_type": "code",
   "execution_count": 87,
   "id": "d50c5f3c",
   "metadata": {},
   "outputs": [
    {
     "name": "stdout",
     "output_type": "stream",
     "text": [
      "[0.0, 1.0, 0.0, 2.0]"
     ]
    }
   ],
   "source": [
    "print(tridiagsolve(a, b, c, f))"
   ]
  },
  {
   "cell_type": "code",
   "execution_count": 88,
   "id": "47e45abe",
   "metadata": {},
   "outputs": [
    {
     "name": "stdout",
     "output_type": "stream",
     "text": [
      "[0.0, 1.0, 0.0, 2.0]"
     ]
    }
   ],
   "source": [
    "print(tridiagsolve(A, f))"
   ]
  },
  {
   "cell_type": "code",
   "execution_count": 89,
   "id": "981e3084",
   "metadata": {},
   "outputs": [
    {
     "name": "stdout",
     "output_type": "stream",
     "text": [
      "[0.0, 0.0, 0.0, 0.0]"
     ]
    }
   ],
   "source": [
    "print(f - A * tridiagsolve(A, f))"
   ]
  },
  {
   "cell_type": "markdown",
   "id": "21867b5b",
   "metadata": {},
   "source": [
    "Не реализована прогонка.\n",
    "Решение через зануление диагональ и использование bacwardsub стоит квадратичное время.\n",
    "Прогонка решает 3-диаг. систему за линейное."
   ]
  },
  {
   "cell_type": "markdown",
   "id": "42ea80a9",
   "metadata": {},
   "source": [
    "# task 3"
   ]
  },
  {
   "cell_type": "code",
   "execution_count": 90,
   "id": "9a831d64",
   "metadata": {},
   "outputs": [
    {
     "data": {
      "text/plain": [
       "solution_a (generic function with 1 method)"
      ]
     },
     "execution_count": 90,
     "metadata": {},
     "output_type": "execute_result"
    }
   ],
   "source": [
    "function solution_a()\n",
    "    A = [8 9 4 -1;\n",
    "         0 4 1 0;\n",
    "         0 0 -1 6;\n",
    "         0 0 0 11]\n",
    "    b = [9, 3, -1, 2]\n",
    "    x = backwardsub(A, b)\n",
    "    return x, b - A * x\n",
    "end"
   ]
  },
  {
   "cell_type": "code",
   "execution_count": 91,
   "id": "e351bc71",
   "metadata": {},
   "outputs": [
    {
     "name": "stdout",
     "output_type": "stream",
     "text": [
      "([-0.15340909090909105, 0.2272727272727273, 2.090909090909091, 0.18181818181818182], [1.7763568394002505e-15, 0.0, 0.0, 0.0])"
     ]
    }
   ],
   "source": [
    "print(solution_a())"
   ]
  },
  {
   "cell_type": "code",
   "execution_count": 92,
   "id": "979175f8",
   "metadata": {},
   "outputs": [
    {
     "data": {
      "text/plain": [
       "solution_b (generic function with 1 method)"
      ]
     },
     "execution_count": 92,
     "metadata": {},
     "output_type": "execute_result"
    }
   ],
   "source": [
    "function solution_b()\n",
    "    A = [-2 1 0 0 0;\n",
    "         1 -2 1 0 0;\n",
    "         0 1 -2 1 0;\n",
    "         0 0 1 -2 1;\n",
    "         0 0 0 1 -2]\n",
    "    b = [1, 1, 1, 1, 1]\n",
    "    x = tridiagsolve(Tridiagonal(A), b)\n",
    "    return x, b - A * x\n",
    "end"
   ]
  },
  {
   "cell_type": "code",
   "execution_count": 93,
   "id": "63e6c7a3",
   "metadata": {},
   "outputs": [
    {
     "name": "stdout",
     "output_type": "stream",
     "text": [
      "([-2.5, -3.9999999999999996, -4.499999999999999, -4.0, -2.5], [-4.440892098500626e-16, 0.0, 1.7763568394002505e-15, -8.881784197001252e-16, 0.0])"
     ]
    }
   ],
   "source": [
    "print(solution_b())"
   ]
  },
  {
   "cell_type": "code",
   "execution_count": 94,
   "id": "9d28b1b1",
   "metadata": {},
   "outputs": [
    {
     "data": {
      "text/plain": [
       "solution_c (generic function with 1 method)"
      ]
     },
     "execution_count": 94,
     "metadata": {},
     "output_type": "execute_result"
    }
   ],
   "source": [
    "function solution_c()\n",
    "    A = [1 8 -3 9;\n",
    "         0 4 10 -2;\n",
    "         8 2 -5 1;\n",
    "         3 1 6 12]\n",
    "    b = [3, 6, 1, 4]\n",
    "    F = lu(A)\n",
    "    x = F \\ b\n",
    "    return x, b - A * x\n",
    "end"
   ]
  },
  {
   "cell_type": "code",
   "execution_count": 95,
   "id": "51d311cd",
   "metadata": {},
   "outputs": [
    {
     "name": "stdout",
     "output_type": "stream",
     "text": [
      "([0.2629310344827586, 0.4741379310344827, 0.41451149425287354, 0.02083333333333337], [0.0, 8.881784197001252e-16, 1.1102230246251565e-16, 0.0])"
     ]
    }
   ],
   "source": [
    "print(solution_c())"
   ]
  }
 ],
 "metadata": {
  "kernelspec": {
   "display_name": "Julia 1.9.0",
   "language": "julia",
   "name": "julia-1.9"
  },
  "language_info": {
   "file_extension": ".jl",
   "mimetype": "application/julia",
   "name": "julia",
   "version": "1.9.0"
  }
 },
 "nbformat": 4,
 "nbformat_minor": 5
}
