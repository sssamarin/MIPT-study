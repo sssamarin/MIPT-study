{
 "cells": [
  {
   "cell_type": "code",
   "execution_count": 4,
   "metadata": {},
   "outputs": [],
   "source": [
    "using LinearAlgebra\n",
    "using Plots\n",
    "using LaTeXStrings  # для отображения на графиках подписей с LaTeX-шрифтом (пример: L\"E = m c^2\")\n",
    "using ForwardDiff"
   ]
  },
  {
   "cell_type": "code",
   "execution_count": 23,
   "metadata": {},
   "outputs": [
    {
     "data": {
      "text/plain": [
       "df (generic function with 1 method)"
      ]
     },
     "metadata": {},
     "output_type": "display_data"
    }
   ],
   "source": [
    "struct Dual{T}\n",
    "    a::T\n",
    "    b::T\n",
    "end\n",
    "\n",
    "# Dual(a::Real, b::Real) = Dual(promote(a, b)...)\n",
    "\n",
    "# Приведение типов.\n",
    "Base.promote_rule(::Type{Dual{T}}, ::Type{S}) where {T, S} = Dual{promote_type(T, S)}\n",
    "Base.convert(::Type{<:Dual}, x::Real) = Dual(x, zero(x))\n",
    "\n",
    "Base.:+(x::Dual, y::Real) = +(promote(x, y)...) # +(promote(x, y)) - кортеж, поэтому распаковали\n",
    "Base.:+(x::Real, y::Dual) = +(promote(x, y)...)\n",
    "\n",
    "Base.:*(x::Real, y::Dual) = *(promote(x, y)...)\n",
    "Base.:*(x::Dual, y::Real) = *(promote(x, y)...)\n",
    "\n",
    "# Перегрузка +, -, ∗ и ^.\n",
    "Base.:+(x::Dual, y::Dual) = Dual(x.a + y.a, x.b + y.b)\n",
    "Base.:*(x::Dual, y::Dual) = Dual(x.a*y.a, (x.a*y.b + x.b*y.a))\n",
    "Base.:-(x::Dual, y::Dual) = x + (-1)*y\n",
    "Base.:^(x::Dual, n::Int) = Dual(x.a^n, n * x.a^(n - 1) * x.b)\n",
    "\n",
    "Base.:log(x::Dual) = Dual(log(x.a), x.b*(1/x.a))\n",
    "Base.:sqrt(x::Dual) = Dual(sqrt(x.a), x.b*(1/(2*sqrt(x.a))))\n",
    "Base.:exp(x::Dual) = Dual(exp(x.a), x.b*exp(x.a))\n",
    "\n",
    "f(x) = log(sqrt(x)) - exp(x)\n",
    "df(x) = 1/(2*x) - exp(x)"
   ]
  },
  {
   "cell_type": "code",
   "execution_count": 24,
   "metadata": {},
   "outputs": [
    {
     "name": "stdout",
     "output_type": "stream",
     "text": [
      "f(Dual(1.0, 1.0)) = Dual{Float64}(-2.718281828459045, -2.218281828459045)\n",
      "f(1) = -2.718281828459045\n",
      "df(1) = -2.218281828459045\n",
      "ForwardDiff.derivative(f, 1) = -2.218281828459045\n"
     ]
    },
    {
     "data": {
      "text/plain": [
       "-2.218281828459045"
      ]
     },
     "metadata": {},
     "output_type": "display_data"
    }
   ],
   "source": [
    "@show f(Dual(1., 1.))\n",
    "@show f(1)\n",
    "@show df(1)\n",
    "@show ForwardDiff.derivative(f, 1)"
   ]
  },
  {
   "cell_type": "code",
   "execution_count": 38,
   "metadata": {},
   "outputs": [
    {
     "name": "stdout",
     "output_type": "stream",
     "text": [
      "Counting with Dual numbers: Dual{Float64}(-2.718281828459045, -2.218281828459045)\n",
      "Counting with Real numbers:               -2.718281828459045  -2.218281828459045\n",
      "\n",
      "Counting with Dual numbers: Dual{Float64}(-4.278956516283983, -4.1483557370047315)\n",
      "Counting with Real numbers:               -4.278956516283983  -4.1483557370047315\n",
      "\n",
      "Counting with Dual numbers: Dual{Float64}(-7.042482508650678, -7.13905609893065)\n",
      "Counting with Real numbers:               -7.042482508650678  -7.13905609893065\n",
      "\n",
      "Counting with Dual numbers: Dual{Float64}(-11.724348594766395, -11.982493960703474)\n",
      "Counting with Real numbers:               -11.724348594766395  -11.982493960703474\n",
      "\n",
      "Counting with Dual numbers: Dual{Float64}(-19.536230778853614, -19.918870256521)\n",
      "Counting with Real numbers:               -19.536230778853614  -19.918870256521\n",
      "\n"
     ]
    }
   ],
   "source": [
    "X = range(1, 3, 5)\n",
    "for x in X\n",
    "    println(\"Counting with Dual numbers: \", f(Dual(x, 1.)))\n",
    "    println(\"Counting with Real numbers:               \", f(x), \"  \",  df(x))\n",
    "    println(\"\")\n",
    "end"
   ]
  }
 ],
 "metadata": {
  "kernelspec": {
   "display_name": "Julia 1.9.3",
   "language": "julia",
   "name": "julia-1.9"
  },
  "language_info": {
   "file_extension": ".jl",
   "mimetype": "application/julia",
   "name": "julia",
   "version": "1.9.3"
  }
 },
 "nbformat": 4,
 "nbformat_minor": 2
}
