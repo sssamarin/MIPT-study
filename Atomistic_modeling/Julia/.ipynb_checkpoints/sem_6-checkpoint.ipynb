{
 "cells": [
  {
   "cell_type": "code",
   "execution_count": 7,
   "id": "786ddbc0",
   "metadata": {},
   "outputs": [],
   "source": [
    "struct Dual{T}\n",
    "    a::T\n",
    "    b::T\n",
    "end\n",
    "\n",
    "Base.promote_rule(::Type{Dual{T}}, ::Type{S}) where {T, S} = Dual{promote_type(T, S)}\n",
    "Base.convert(::Type{<:Dual}, x::Real) = Dual(x, zero(x))\n",
    "\n",
    "Base.:+(x::Dual, y::Real) = +(promote(x, y)...) # +(promote(x, y)) - кортеж, поэтому распаковали\n",
    "\n",
    "Base.:+(x::Dual, y::Dual) = Dual(x.a + y.a, x.b + y.b)\n",
    "Base.:*(x::Dual, y::Dual) = Dual(x.a*y.a, (x.a*y.b + x.b*y.a))\n",
    "Base.:^(x::Dual, n::Int) = Dual(x.a^n, n * x.a^(n - 1) * x.b)\n",
    "Base.:log(x::Dual) = Dual(log(x.a), x.b*(1/x.a))"
   ]
  },
  {
   "cell_type": "code",
   "execution_count": 8,
   "id": "1f9a84cc",
   "metadata": {},
   "outputs": [
    {
     "data": {
      "text/plain": [
       "df (generic function with 1 method)"
      ]
     },
     "execution_count": 8,
     "metadata": {},
     "output_type": "execute_result"
    }
   ],
   "source": [
    "f(x) = x*log(x^2) + 3\n",
    "df(x) = 2 + log(x^2)"
   ]
  },
  {
   "cell_type": "code",
   "execution_count": 9,
   "id": "84b295d6",
   "metadata": {},
   "outputs": [
    {
     "name": "stdout",
     "output_type": "stream",
     "text": [
      "f(Dual(5, 1)) = Dual{Float64}(19.094379124341003, 5.218875824868201)\n",
      "f(5) = 19.094379124341003\n"
     ]
    },
    {
     "data": {
      "text/plain": [
       "19.094379124341003"
      ]
     },
     "execution_count": 9,
     "metadata": {},
     "output_type": "execute_result"
    }
   ],
   "source": [
    "@show f(Dual(5, 1))\n",
    "@show f(5)"
   ]
  },
  {
   "cell_type": "code",
   "execution_count": null,
   "id": "b602024e",
   "metadata": {},
   "outputs": [],
   "source": []
  }
 ],
 "metadata": {
  "kernelspec": {
   "display_name": "Julia 1.9.3",
   "language": "julia",
   "name": "julia-1.9"
  },
  "language_info": {
   "file_extension": ".jl",
   "mimetype": "application/julia",
   "name": "julia",
   "version": "1.9.3"
  }
 },
 "nbformat": 4,
 "nbformat_minor": 5
}
