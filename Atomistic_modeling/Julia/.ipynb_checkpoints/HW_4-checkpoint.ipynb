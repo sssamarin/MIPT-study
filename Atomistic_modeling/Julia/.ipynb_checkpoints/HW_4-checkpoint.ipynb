{
 "cells": [
  {
   "cell_type": "code",
   "execution_count": 1,
   "id": "eac325c2",
   "metadata": {},
   "outputs": [],
   "source": [
    "using LinearAlgebra"
   ]
  },
  {
   "cell_type": "markdown",
   "id": "4a595644",
   "metadata": {},
   "source": [
    "**Task 1**"
   ]
  },
  {
   "cell_type": "code",
   "execution_count": 65,
   "id": "a2ec3c5c",
   "metadata": {},
   "outputs": [
    {
     "data": {
      "text/plain": [
       "mysqrt (generic function with 3 methods)"
      ]
     },
     "execution_count": 65,
     "metadata": {},
     "output_type": "execute_result"
    }
   ],
   "source": [
    "function mysqrt(y, err=1.e-5, max_iter=1000)\n",
    "    if y <= 2\n",
    "        x = (1 + y)/2\n",
    "    else\n",
    "        x = y/4\n",
    "    end\n",
    "    iter = 0\n",
    "    \n",
    "    while iter != max_iter\n",
    "        x = x - (x^2 - y)/(2*x)\n",
    "        iter += 1\n",
    "        if abs(x^2 - y) < err\n",
    "#             print(\"search took \", iter, \" iterations\")\n",
    "            return x\n",
    "        end\n",
    "    end\n",
    "    print(\"sqrt was not found\")\n",
    "    return 0 \n",
    "    end"
   ]
  },
  {
   "cell_type": "code",
   "execution_count": 66,
   "id": "b2bb8731",
   "metadata": {},
   "outputs": [
    {
     "name": "stdout",
     "output_type": "stream",
     "text": [
      "Max error is 0.001953125"
     ]
    }
   ],
   "source": [
    "Y = range(0, 10; step=0.1)\n",
    "max_err = maximum(abs.(sqrt.(Y) .- mysqrt.(Y)))\n",
    "print(\"Max error is \", max_err)"
   ]
  },
  {
   "cell_type": "markdown",
   "id": "72f8730b",
   "metadata": {},
   "source": [
    "**Task 2**"
   ]
  },
  {
   "cell_type": "code",
   "execution_count": 32,
   "id": "a06bb52e",
   "metadata": {},
   "outputs": [
    {
     "data": {
      "text/plain": [
       "f (generic function with 2 methods)"
      ]
     },
     "execution_count": 32,
     "metadata": {},
     "output_type": "execute_result"
    }
   ],
   "source": [
    "function rachford_rice_solve(z, K)\n",
    "    x_min = minimum([1/(1 - maximum(K)), 1/(1 - minimum(K))])\n",
    "    x_max = maximum([1/(1 - maximum(K)), 1/(1 - minimum(K))])\n",
    "    f(x) = sum(z.*(K .- 1)/(x.*(K .- 1) .+ 1))\n",
    "    G0 = regulafalsi(f, x_min, x_max)\n",
    "    return G0\n",
    "end\n",
    "\n",
    "function regulafalsi(f, x₁, x₂; maxiter=25, xtol=eps(), ftol=eps())\n",
    "    if x₁ > x₂; x₁, x₂ = x₂, x₁; end\n",
    "    y₁, y₂ = f.((x₁, x₂))\n",
    "    sign(y₁) == sign(y₂) && error(\"Функция должна иметь разные знаки в концах отрезка\")\n",
    "    abs(y₁) < ftol && return x₁\n",
    "    abs(y₂) < ftol && return x₂\n",
    "    \n",
    "    for i in 1:maxiter\n",
    "        y₂ = f(x₂)\n",
    "        xnew = (y₂*x₁ - y₁*x₂) / (y₂ - y₁)\n",
    "        ynew = f(xnew)\n",
    "\n",
    "        if sign(y₂) == sign(ynew)\n",
    "            x₂, y₂ = xnew, ynew\n",
    "        elseif sign(y₁) == sign(ynew)\n",
    "            x₁, y₁ = xnew, ynew\n",
    "        else\n",
    "            return xnew\n",
    "        end\n",
    "        abs(ynew) < ftol && return xnew\n",
    "        abs(x₂ - x₁) < xtol && return xnew\n",
    "    end\n",
    "    error(\"Число итераций превышено.\")\n",
    "end\n",
    "\n",
    "f(x, z, K) = sum(z.*(K .- 1)/(x.*(K .- 1) .+ 1))"
   ]
  },
  {
   "cell_type": "code",
   "execution_count": 33,
   "id": "5d4a8435",
   "metadata": {},
   "outputs": [
    {
     "ename": "LoadError",
     "evalue": "Функция должна иметь разные знаки в концах отрезка",
     "output_type": "error",
     "traceback": [
      "Функция должна иметь разные знаки в концах отрезка",
      "",
      "Stacktrace:",
      " [1] error(s::String)",
      "   @ Base .\\error.jl:35",
      " [2] regulafalsi(f::var\"#f#30\"{Vector{Float64}, Vector{Float64}}, x₁::Float64, x₂::Float64; maxiter::Int64, xtol::Float64, ftol::Float64)",
      "   @ Main .\\In[32]:12",
      " [3] regulafalsi",
      "   @ .\\In[32]:9 [inlined]",
      " [4] rachford_rice_solve(z::Vector{Float64}, K::Vector{Float64})",
      "   @ Main .\\In[32]:5",
      " [5] top-level scope",
      "   @ In[33]:3"
     ]
    }
   ],
   "source": [
    "z = [0.9, 0.1]\n",
    "K = [1.5, 0.01]\n",
    "rachford_rice_solve(z, K)"
   ]
  },
  {
   "cell_type": "code",
   "execution_count": 38,
   "id": "2d891559",
   "metadata": {},
   "outputs": [
    {
     "data": {
      "text/plain": [
       "0.018362633132298224"
      ]
     },
     "execution_count": 38,
     "metadata": {},
     "output_type": "execute_result"
    }
   ],
   "source": [
    "x = 3\n",
    "f(x, z, K)"
   ]
  },
  {
   "cell_type": "code",
   "execution_count": null,
   "id": "f30d13fb",
   "metadata": {},
   "outputs": [],
   "source": []
  }
 ],
 "metadata": {
  "kernelspec": {
   "display_name": "Julia 1.9.3",
   "language": "julia",
   "name": "julia-1.9"
  },
  "language_info": {
   "file_extension": ".jl",
   "mimetype": "application/julia",
   "name": "julia",
   "version": "1.9.3"
  }
 },
 "nbformat": 4,
 "nbformat_minor": 5
}
