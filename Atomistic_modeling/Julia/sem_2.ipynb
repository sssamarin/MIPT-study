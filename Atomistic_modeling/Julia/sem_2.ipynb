{
 "cells": [
  {
   "cell_type": "markdown",
   "id": "bce80690",
   "metadata": {},
   "source": [
    "map, filter"
   ]
  },
  {
   "cell_type": "code",
   "execution_count": 5,
   "id": "1d6c8d89",
   "metadata": {},
   "outputs": [
    {
     "name": "stderr",
     "output_type": "stream",
     "text": [
      "WARNING: replacing module Points.\n"
     ]
    },
    {
     "data": {
      "text/plain": [
       "Main.Points"
      ]
     },
     "execution_count": 5,
     "metadata": {},
     "output_type": "execute_result"
    }
   ],
   "source": [
    "module Points\n",
    "\n",
    "import LinearAlgebra\n",
    "\n",
    "# публичные имена\n",
    "export Point\n",
    "\n",
    "struct Point{T}\n",
    "    x::T\n",
    "    y::T\n",
    "end\n",
    "\n",
    "Point(x, y) = Point(promote(x, y)...)\n",
    "\n",
    "Base.:+(p::Point, q::Point) = Point(p.x + q.x, p.y + q.y)\n",
    "Base.:-(p::Point, q::Point) = Point(p.x - q.x, p.y - q.y)\n",
    "\n",
    "LinearAlgebra.norm(p::Point) = sqrt(p.x^2 + p.y^2) \n",
    "\n",
    "end # module"
   ]
  },
  {
   "cell_type": "code",
   "execution_count": 7,
   "id": "7dbc1452",
   "metadata": {},
   "outputs": [
    {
     "name": "stdout",
     "output_type": "stream",
     "text": [
      "norm(p1) = 3.1622776601683795\n"
     ]
    },
    {
     "data": {
      "text/plain": [
       "3.1622776601683795"
      ]
     },
     "execution_count": 7,
     "metadata": {},
     "output_type": "execute_result"
    }
   ],
   "source": [
    "using .Points\n",
    "using LinearAlgebra\n",
    "\n",
    "p1 = (1, 3)\n",
    "\n",
    "# @show Points.Point(1, 2)\n",
    "# @show Point(1, 2.0)\n",
    "@show norm(p1)\n"
   ]
  },
  {
   "cell_type": "code",
   "execution_count": 9,
   "id": "c669a4e4",
   "metadata": {},
   "outputs": [
    {
     "ename": "LoadError",
     "evalue": "SystemError: opening file \"C:\\\\Users\\\\Serge\\\\Documents\\\\VSCode_projects\\\\Julia\\\\file_name.jl\": No such file or directory",
     "output_type": "error",
     "traceback": [
      "SystemError: opening file \"C:\\\\Users\\\\Serge\\\\Documents\\\\VSCode_projects\\\\Julia\\\\file_name.jl\": No such file or directory",
      "",
      "Stacktrace:",
      "  [1] systemerror(p::String, errno::Int32; extrainfo::Nothing)",
      "    @ Base .\\error.jl:176",
      "  [2] #systemerror#82",
      "    @ .\\error.jl:175 [inlined]",
      "  [3] systemerror",
      "    @ .\\error.jl:175 [inlined]",
      "  [4] open(fname::String; lock::Bool, read::Nothing, write::Nothing, create::Nothing, truncate::Nothing, append::Nothing)",
      "    @ Base .\\iostream.jl:293",
      "  [5] open",
      "    @ .\\iostream.jl:275 [inlined]",
      "  [6] open(f::Base.var\"#418#419\"{String}, args::String; kwargs::Base.Pairs{Symbol, Union{}, Tuple{}, NamedTuple{(), Tuple{}}})",
      "    @ Base .\\io.jl:393",
      "  [7] open",
      "    @ .\\io.jl:392 [inlined]",
      "  [8] read",
      "    @ .\\io.jl:473 [inlined]",
      "  [9] _include(mapexpr::Function, mod::Module, _path::String)",
      "    @ Base .\\loading.jl:1959",
      " [10] include(fname::String)",
      "    @ Base.MainInclude .\\client.jl:478",
      " [11] top-level scope",
      "    @ In[9]:2"
     ]
    }
   ],
   "source": [
    "# модуль из другого файла \n",
    "include(\"file_name.jl\")\n",
    "using .Points"
   ]
  },
  {
   "cell_type": "code",
   "execution_count": null,
   "id": "b9589080",
   "metadata": {},
   "outputs": [],
   "source": []
  }
 ],
 "metadata": {
  "kernelspec": {
   "display_name": "Julia 1.9.3",
   "language": "julia",
   "name": "julia-1.9"
  },
  "language_info": {
   "file_extension": ".jl",
   "mimetype": "application/julia",
   "name": "julia",
   "version": "1.9.3"
  }
 },
 "nbformat": 4,
 "nbformat_minor": 5
}
