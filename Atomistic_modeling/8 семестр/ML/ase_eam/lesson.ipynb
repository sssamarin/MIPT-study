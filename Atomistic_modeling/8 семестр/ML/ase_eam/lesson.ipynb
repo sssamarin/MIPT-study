{
 "cells": [
  {
   "cell_type": "code",
   "execution_count": 1,
   "metadata": {},
   "outputs": [],
   "source": [
    "import comp_mod_ase as cma\n",
    "import potfit_reader as pr\n",
    "from pprint import pprint\n",
    "import opt_algos as oa\n",
    "\n",
    "# импорты для визуализации\n",
    "from ase.visualize import view\n",
    "import matplotlib.pyplot as plt\n",
    "from ase.visualize.plot import plot_atoms\n",
    "from ase.calculators.abc import ABC\n"
   ]
  },
  {
   "cell_type": "code",
   "execution_count": 4,
   "metadata": {},
   "outputs": [
    {
     "name": "stdout",
     "output_type": "stream",
     "text": [
      "156 29\n"
     ]
    }
   ],
   "source": [
    "data = pr.reader(\"train.force\")\n",
    "\n",
    "#0:80\n",
    "#80:127\n",
    "#127:167\n",
    "#167:186\n",
    "# In order to have all kind of structures in datasets\n",
    "\n",
    "train_data = data[:70] + data[80:120] + data[127:160] + data[167:180]\n",
    "test_data = data[70:80] + data[120:127] + data[160:167] + data[180:]\n",
    "\n",
    "print(len(train_data), len(test_data))"
   ]
  },
  {
   "cell_type": "code",
   "execution_count": 5,
   "metadata": {},
   "outputs": [
    {
     "name": "stdout",
     "output_type": "stream",
     "text": [
      "<class 'list'> <class 'potfit_reader.Structure'>\n",
      "\n",
      "{'atom_types': list[str],\n",
      " 'cell': <class 'potfit_reader.Cell'>,\n",
      " 'energy': <class 'float'>,\n",
      " 'forces': <class 'numpy.ndarray'>,\n",
      " 'positions': <class 'numpy.ndarray'>}\n"
     ]
    }
   ],
   "source": [
    "print(type(train_data), type(train_data[0]))\n",
    "print()\n",
    "pprint(pr.Structure.__annotations__)"
   ]
  },
  {
   "attachments": {},
   "cell_type": "markdown",
   "metadata": {},
   "source": [
    "## EAM\n",
    "\n",
    "The expression for the interaction potential energy in case of the EAM interatomic potential (for the single component) can be written as follows:\n",
    "$$\n",
    "    E_{pe} = \\frac{1}{2}\\sum_{i \\neq j} \\Phi(r_{ij}) + \\sum_{i} F(n_i),\n",
    "$$\n",
    "where electron density for an $i$-th atom has the following form:\n",
    "\n",
    "$$\n",
    "    n_i = \\sum_{j\\neq i} \\rho(r_{ij}).\n",
    "$$\n",
    "\n",
    "We will use the following functions:\n",
    "\n",
    "Morse for $\\Phi(r)$:\n",
    "$$\n",
    "\\Phi(r) = D_e ([1-\\exp(-a(r-re))]^2 - 1)\n",
    "$$\n",
    "\n",
    "csw2 for $\\rho(r)$:\n",
    "$$\n",
    "\\rho(r) = \\frac{(1 + a_1 \\cos(\\alpha r + \\phi))}{r^\\beta}\n",
    "$$\n",
    "\n",
    "bjs for $F(n)$:\n",
    "$$\n",
    "F(n) = F_0[1−\\gamma\\ln n]n^\\gamma + F_1 n\n",
    "$$"
   ]
  },
  {
   "cell_type": "code",
   "execution_count": 32,
   "metadata": {},
   "outputs": [
    {
     "name": "stdout",
     "output_type": "stream",
     "text": [
      "{'F_rho': <built-in function array>,\n",
      " 'Phi_r': <built-in function array>,\n",
      " 'Rho_r': <built-in function array>,\n",
      " 'elements': list[str],\n",
      " 'masses': list[float],\n",
      " 'rcut': <class 'float'>,\n",
      " 'return': <class 'ase.calculators.eam.EAM'>}\n"
     ]
    }
   ],
   "source": [
    "pprint(cma.init_eam.__annotations__)"
   ]
  },
  {
   "cell_type": "code",
   "execution_count": 33,
   "metadata": {},
   "outputs": [],
   "source": [
    "# borders\n",
    "\n",
    "# rcut [4.0, 6.5]\n",
    "\n",
    "# morse\n",
    "# de, a, re [[0.02, 1.0],[0.5, 2.0],[3.0, 4.5]]\n",
    "\n",
    "# csw2 \n",
    "# a1, alpha, phi, beta [[-1, 1], [0.1, 3.0], [0, np.pi], [0.5, 3.0]]\n",
    "\n",
    "# bjs\n",
    "# F0, gamma, F1 [[-4, -1], [0.5, 3.0], [-0.8, 0.5]]"
   ]
  },
  {
   "cell_type": "code",
   "execution_count": 18,
   "metadata": {},
   "outputs": [],
   "source": [
    "# r = np.linspace(0.0, 6.0, 100)\n",
    "# rho = np.linspace(0.0, 10.0, 100)\n",
    "pot = cma.EAM(potential=\"Lead.eam.alloy\")"
   ]
  },
  {
   "cell_type": "code",
   "execution_count": 65,
   "metadata": {},
   "outputs": [
    {
     "name": "stdout",
     "output_type": "stream",
     "text": [
      "CPU times: user 22.2 s, sys: 1.39 s, total: 23.6 s\n",
      "Wall time: 5.91 s\n"
     ]
    }
   ],
   "source": [
    "%time for structure in test_data: cma.comp_fe_ase(pot, structure)"
   ]
  },
  {
   "attachments": {},
   "cell_type": "markdown",
   "metadata": {},
   "source": [
    "## Задача\n",
    "\n",
    "1. Обучить EAM потенциал по данным `train_data`. Использовать алгоритм из `oa` (наверное, лучше генетический). Надо реализовать loss фунцкцию. Для расчтетов сил и энергий использовать `cma.comp_fe_ase`\n",
    "\n",
    "Примечание: можно считать, что ошибка $0.1~eV/\\AA \\Leftrightarrow 10~meV/atom$. Также заметьте, что значения энергий даны для всей системы. Размерность сил $eV/\\AA$, а энергий $eV$."
   ]
  },
  {
   "cell_type": "code",
   "execution_count": 9,
   "metadata": {},
   "outputs": [],
   "source": [
    "import numpy as np"
   ]
  },
  {
   "cell_type": "code",
   "execution_count": 49,
   "metadata": {},
   "outputs": [],
   "source": [
    "def loss_func(comp_structures: list[pr.Structure], valid_structures: list[pr.Structure],\n",
    "        f_weight = 1.0, en_weight = 10.0\n",
    "    ) -> float:\n",
    "    # MSE(forces)\n",
    "    # MSE(energies) do not forget to compute per atom values\n",
    "    if len(comp_structures) != len(valid_structures):\n",
    "        raise ValueError('Different lens of arrays')\n",
    "\n",
    "    comp_forces = np.concatenate([struct.forces for struct in comp_structures])\n",
    "    valid_forces = np.concatenate([struct.forces for struct in valid_structures])\n",
    "    forces_mse = np.sum((comp_forces - valid_forces)**2) / comp_forces.size\n",
    "\n",
    "    comp_energies = np.array([struct.energy / len(struct.positions) for struct in comp_structures])\n",
    "    valid_energies = np.array([struct.energy / len(struct.positions) for struct in valid_structures])\n",
    "    energies_mse = np.sum((comp_energies - valid_energies)**2) / comp_energies.size\n",
    "\n",
    "    loss = np.sqrt(forces_mse)*f_weight + np.sqrt(energies_mse)*en_weight\n",
    "    return loss"
   ]
  },
  {
   "cell_type": "code",
   "execution_count": 15,
   "metadata": {},
   "outputs": [
    {
     "data": {
      "text/plain": [
       "18"
      ]
     },
     "execution_count": 15,
     "metadata": {},
     "output_type": "execute_result"
    }
   ],
   "source": [
    "np.sum([[[2, 1], [1, 5]], [[2, 1], [1, 5]]])\n",
    "a = np.array([[[2, 1], [1, 5]], [[2, 1], [1, 5]]])\n",
    "a.size\n"
   ]
  },
  {
   "cell_type": "code",
   "execution_count": 6,
   "metadata": {},
   "outputs": [
    {
     "data": {
      "text/plain": [
       "{'cell': potfit_reader.Cell,\n",
       " 'positions': numpy.ndarray,\n",
       " 'forces': numpy.ndarray,\n",
       " 'energy': float,\n",
       " 'atom_types': list[str]}"
      ]
     },
     "execution_count": 6,
     "metadata": {},
     "output_type": "execute_result"
    }
   ],
   "source": [
    "pr.Structure.__annotations__"
   ]
  },
  {
   "cell_type": "code",
   "execution_count": 19,
   "metadata": {},
   "outputs": [],
   "source": [
    "comp_structures = [cma.comp_fe_ase(pot, structure) for structure in test_data]\n"
   ]
  },
  {
   "cell_type": "code",
   "execution_count": 46,
   "metadata": {},
   "outputs": [
    {
     "data": {
      "text/plain": [
       "numpy.float64"
      ]
     },
     "execution_count": 46,
     "metadata": {},
     "output_type": "execute_result"
    }
   ],
   "source": [
    "a = [struct.forces for struct in test_data]\n",
    "type(a[0])\n",
    "# a = np.array(a)"
   ]
  },
  {
   "cell_type": "code",
   "execution_count": 50,
   "metadata": {},
   "outputs": [
    {
     "data": {
      "text/plain": [
       "881.010391257251"
      ]
     },
     "execution_count": 50,
     "metadata": {},
     "output_type": "execute_result"
    }
   ],
   "source": [
    "loss_func(comp_structures, test_data)"
   ]
  },
  {
   "attachments": {},
   "cell_type": "markdown",
   "metadata": {},
   "source": [
    "2. Вывести ошибки на  `train_data` и `test_data`."
   ]
  },
  {
   "cell_type": "code",
   "execution_count": null,
   "metadata": {},
   "outputs": [],
   "source": []
  },
  {
   "cell_type": "code",
   "execution_count": null,
   "metadata": {},
   "outputs": [],
   "source": []
  },
  {
   "attachments": {},
   "cell_type": "markdown",
   "metadata": {},
   "source": [
    "3. Построить полученные функции EAM потенциала"
   ]
  },
  {
   "cell_type": "code",
   "execution_count": null,
   "metadata": {},
   "outputs": [],
   "source": []
  },
  {
   "cell_type": "code",
   "execution_count": null,
   "metadata": {},
   "outputs": [],
   "source": []
  },
  {
   "attachments": {},
   "cell_type": "markdown",
   "metadata": {},
   "source": [
    "4*. Изучить зависимость ошибки от $rcut$."
   ]
  },
  {
   "cell_type": "code",
   "execution_count": null,
   "metadata": {},
   "outputs": [],
   "source": []
  },
  {
   "cell_type": "code",
   "execution_count": null,
   "metadata": {},
   "outputs": [],
   "source": []
  },
  {
   "cell_type": "code",
   "execution_count": null,
   "metadata": {},
   "outputs": [],
   "source": []
  }
 ],
 "metadata": {
  "kernelspec": {
   "display_name": "newtest",
   "language": "python",
   "name": "python3"
  },
  "language_info": {
   "codemirror_mode": {
    "name": "ipython",
    "version": 3
   },
   "file_extension": ".py",
   "mimetype": "text/x-python",
   "name": "python",
   "nbconvert_exporter": "python",
   "pygments_lexer": "ipython3",
   "version": "3.1.0"
  },
  "orig_nbformat": 4
 },
 "nbformat": 4,
 "nbformat_minor": 2
}
