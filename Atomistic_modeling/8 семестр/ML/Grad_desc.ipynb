{
 "cells": [
  {
   "cell_type": "code",
   "execution_count": 34,
   "metadata": {},
   "outputs": [],
   "source": [
    "import numpy as np\n",
    "import scipy.stats as sps\n",
    "from matplotlib import pyplot as plt\n",
    "from tqdm import tqdm\n"
   ]
  },
  {
   "cell_type": "code",
   "execution_count": 51,
   "metadata": {},
   "outputs": [],
   "source": [
    "def U_lj_0(r, sigma_0=1., eps_0=1.):\n",
    "    np.random.seed(seed=42)\n",
    "    return 4*eps_0*((sigma_0/r)**12 - (sigma_0/r)**6) + np.random.normal(scale=0.01, size=len(r))\n",
    "\n",
    "def U_lj(sigma, eps, r):\n",
    "    return 4*eps*((sigma/r)**12 - (sigma/r)**6)\n",
    "\n",
    "def grad_Loss(sigma, eps, r):\n",
    "    return - 2*(U_lj_0(r) - U_lj(sigma, eps, r)) * 4*eps*(12/r*(sigma/r)**11 - 6/r*(sigma/r)**5), \\\n",
    "            - 2*(U_lj_0(r) - U_lj(sigma, eps, r)) * 4*((sigma/r)**12 - (sigma/r)**6)"
   ]
  },
  {
   "cell_type": "code",
   "execution_count": 52,
   "metadata": {},
   "outputs": [
    {
     "data": {
      "text/plain": [
       "[<matplotlib.lines.Line2D at 0x271ca23ee20>]"
      ]
     },
     "execution_count": 52,
     "metadata": {},
     "output_type": "execute_result"
    },
    {
     "data": {
      "image/png": "[encoded data removed]",
      "text/plain": [
       "<Figure size 640x480 with 1 Axes>"
      ]
     },
     "metadata": {},
     "output_type": "display_data"
    }
   ],
   "source": [
    "sigma_0 = 1.\n",
    "eps_0 = 1.\n",
    "\n",
    "r = np.linspace(1, 5, 100)\n",
    "plt.plot(r, U_lj_0(r, sigma_0, eps_0))"
   ]
  },
  {
   "cell_type": "code",
   "execution_count": 68,
   "metadata": {},
   "outputs": [
    {
     "name": "stderr",
     "output_type": "stream",
     "text": [
      "0it [00:00, ?it/s]"
     ]
    },
    {
     "name": "stdout",
     "output_type": "stream",
     "text": [
      "iter 0, 0\n"
     ]
    },
    {
     "name": "stderr",
     "output_type": "stream",
     "text": []
    },
    {
     "name": "stdout",
     "output_type": "stream",
     "text": [
      "max iter reached\n",
      "1.0447115512161262 0.7967009609997056\n",
      "iter 0, 1\n"
     ]
    },
    {
     "name": "stderr",
     "output_type": "stream",
     "text": []
    },
    {
     "name": "stdout",
     "output_type": "stream",
     "text": [
      "max iter reached\n",
      "1.074083532665126 0.48302378986267264\n",
      "iter 0, 2\n"
     ]
    },
    {
     "name": "stderr",
     "output_type": "stream",
     "text": []
    },
    {
     "name": "stdout",
     "output_type": "stream",
     "text": [
      "max iter reached\n",
      "0.9473519344959512 0.7471890887754901\n",
      "iter 0, 3\n",
      "0.1 1.0\n",
      "iter 0, 4\n"
     ]
    },
    {
     "name": "stderr",
     "output_type": "stream",
     "text": []
    },
    {
     "name": "stdout",
     "output_type": "stream",
     "text": [
      "max iter reached\n",
      "1.0718909374166927 0.507980094803798\n",
      "iter 0, 5\n"
     ]
    },
    {
     "name": "stderr",
     "output_type": "stream",
     "text": []
    },
    {
     "name": "stdout",
     "output_type": "stream",
     "text": [
      "max iter reached\n",
      "1.0298769814889333 0.901431512603695\n",
      "iter 0, 6\n"
     ]
    },
    {
     "name": "stderr",
     "output_type": "stream",
     "text": []
    },
    {
     "name": "stdout",
     "output_type": "stream",
     "text": [
      "max iter reached\n",
      "0.9411405943136294 0.8086333584806097\n",
      "iter 0, 7\n"
     ]
    },
    {
     "name": "stderr",
     "output_type": "stream",
     "text": []
    },
    {
     "name": "stdout",
     "output_type": "stream",
     "text": [
      "max iter reached\n",
      "1.0338036276928293 0.8783850635636912\n",
      "iter 0, 8\n"
     ]
    },
    {
     "name": "stderr",
     "output_type": "stream",
     "text": []
    },
    {
     "name": "stdout",
     "output_type": "stream",
     "text": [
      "max iter reached\n",
      "1.0730402410911815 0.49487023704653244\n",
      "iter 0, 9\n"
     ]
    },
    {
     "name": "stderr",
     "output_type": "stream",
     "text": [
      "10it [01:45, 10.54s/it]\n",
      "1it [01:45, 105.37s/it]"
     ]
    },
    {
     "name": "stdout",
     "output_type": "stream",
     "text": [
      "max iter reached\n",
      "1.0388720897916215 0.8436684393173874\n"
     ]
    },
    {
     "name": "stderr",
     "output_type": "stream",
     "text": []
    },
    {
     "name": "stdout",
     "output_type": "stream",
     "text": [
      "iter 1, 0\n"
     ]
    },
    {
     "name": "stderr",
     "output_type": "stream",
     "text": []
    },
    {
     "name": "stdout",
     "output_type": "stream",
     "text": [
      "max iter reached\n",
      "1.04304769895438 0.810829092896891\n",
      "iter 1, 1\n"
     ]
    },
    {
     "name": "stderr",
     "output_type": "stream",
     "text": []
    },
    {
     "name": "stdout",
     "output_type": "stream",
     "text": [
      "max iter reached\n",
      "1.0659862283603254 0.5757322611253541\n",
      "iter 1, 2\n"
     ]
    },
    {
     "name": "stderr",
     "output_type": "stream",
     "text": []
    },
    {
     "name": "stdout",
     "output_type": "stream",
     "text": [
      "max iter reached\n",
      "1.0250318290734397 0.9254492210209049\n",
      "iter 1, 3\n",
      "1.2111111111111112 1.0\n",
      "iter 1, 4\n"
     ]
    },
    {
     "name": "stderr",
     "output_type": "stream",
     "text": []
    },
    {
     "name": "stdout",
     "output_type": "stream",
     "text": [
      "max iter reached\n",
      "1.011111111111111 0.9711933967774331\n",
      "iter 1, 5\n"
     ]
    },
    {
     "name": "stderr",
     "output_type": "stream",
     "text": []
    },
    {
     "name": "stdout",
     "output_type": "stream",
     "text": [
      "max iter reached\n",
      "1.011111111111111 0.9711933967774338\n",
      "iter 1, 6\n"
     ]
    },
    {
     "name": "stderr",
     "output_type": "stream",
     "text": []
    },
    {
     "name": "stdout",
     "output_type": "stream",
     "text": [
      "max iter reached\n",
      "1.007995809187394 0.9776307864006596\n",
      "iter 1, 7\n"
     ]
    },
    {
     "name": "stderr",
     "output_type": "stream",
     "text": []
    },
    {
     "name": "stdout",
     "output_type": "stream",
     "text": [
      "max iter reached\n",
      "0.9615258249648836 0.5764475444212608\n",
      "iter 1, 8\n"
     ]
    },
    {
     "name": "stderr",
     "output_type": "stream",
     "text": []
    },
    {
     "name": "stdout",
     "output_type": "stream",
     "text": [
      "max iter reached\n",
      "0.9577507158935291 0.625128617930428\n",
      "iter 1, 9\n"
     ]
    },
    {
     "name": "stderr",
     "output_type": "stream",
     "text": [
      "10it [01:44, 10.47s/it]\n",
      "2it [03:30, 104.95s/it]"
     ]
    },
    {
     "name": "stdout",
     "output_type": "stream",
     "text": [
      "max iter reached\n",
      "0.9492764550798255 0.7262577652965903\n"
     ]
    },
    {
     "name": "stderr",
     "output_type": "stream",
     "text": []
    },
    {
     "name": "stdout",
     "output_type": "stream",
     "text": [
      "iter 2, 0\n"
     ]
    },
    {
     "name": "stderr",
     "output_type": "stream",
     "text": []
    },
    {
     "name": "stdout",
     "output_type": "stream",
     "text": [
      "max iter reached\n",
      "1.0455461665503503 0.78939695041938\n",
      "iter 2, 1\n"
     ]
    },
    {
     "name": "stderr",
     "output_type": "stream",
     "text": []
    },
    {
     "name": "stdout",
     "output_type": "stream",
     "text": [
      "max iter reached\n",
      "0.9653976052512604 0.5251299924459752\n",
      "iter 2, 2\n"
     ]
    },
    {
     "name": "stderr",
     "output_type": "stream",
     "text": []
    },
    {
     "name": "stdout",
     "output_type": "stream",
     "text": [
      "max iter reached\n",
      "1.0488443477003138 0.7591695873909436\n",
      "iter 2, 3\n",
      "2.3222222222222224 1.0\n",
      "iter 2, 4\n"
     ]
    },
    {
     "name": "stderr",
     "output_type": "stream",
     "text": []
    },
    {
     "name": "stdout",
     "output_type": "stream",
     "text": [
      "max iter reached\n",
      "0.9553661051470711 0.6548870415477052\n",
      "iter 2, 5\n"
     ]
    },
    {
     "name": "stderr",
     "output_type": "stream",
     "text": []
    },
    {
     "name": "stdout",
     "output_type": "stream",
     "text": [
      "max iter reached\n",
      "1.0740751581066532 0.4831186452068559\n",
      "iter 2, 6\n"
     ]
    },
    {
     "name": "stderr",
     "output_type": "stream",
     "text": []
    },
    {
     "name": "stdout",
     "output_type": "stream",
     "text": [
      "max iter reached\n",
      "0.9449942503936867 0.7716428451882696\n",
      "iter 2, 7\n"
     ]
    },
    {
     "name": "stderr",
     "output_type": "stream",
     "text": []
    },
    {
     "name": "stdout",
     "output_type": "stream",
     "text": [
      "max iter reached\n",
      "0.9222222222222213 0.9348963422606517\n",
      "iter 2, 8\n"
     ]
    },
    {
     "name": "stderr",
     "output_type": "stream",
     "text": []
    },
    {
     "name": "stdout",
     "output_type": "stream",
     "text": [
      "max iter reached\n",
      "0.9222222222222213 0.9348963422606517\n",
      "iter 2, 9\n"
     ]
    },
    {
     "name": "stderr",
     "output_type": "stream",
     "text": [
      "10it [01:44, 10.47s/it]\n",
      "3it [05:14, 104.85s/it]"
     ]
    },
    {
     "name": "stdout",
     "output_type": "stream",
     "text": [
      "max iter reached\n",
      "0.9222222222222213 0.9348963422606517\n"
     ]
    },
    {
     "name": "stderr",
     "output_type": "stream",
     "text": []
    },
    {
     "name": "stdout",
     "output_type": "stream",
     "text": [
      "iter 3, 0\n"
     ]
    },
    {
     "name": "stderr",
     "output_type": "stream",
     "text": []
    },
    {
     "name": "stdout",
     "output_type": "stream",
     "text": [
      "max iter reached\n",
      "1.021624076563486 0.9396153530462064\n",
      "iter 3, 1\n"
     ]
    },
    {
     "name": "stderr",
     "output_type": "stream",
     "text": []
    },
    {
     "name": "stdout",
     "output_type": "stream",
     "text": [
      "max iter reached\n",
      "1.0294418411158563 0.9037839505891124\n",
      "iter 3, 2\n"
     ]
    },
    {
     "name": "stderr",
     "output_type": "stream",
     "text": []
    },
    {
     "name": "stdout",
     "output_type": "stream",
     "text": [
      "max iter reached\n",
      "0.932875976681571 0.8749187320591918\n",
      "iter 3, 3\n",
      "3.4333333333333336 1.0\n",
      "iter 3, 4\n"
     ]
    },
    {
     "name": "stderr",
     "output_type": "stream",
     "text": []
    },
    {
     "name": "stdout",
     "output_type": "stream",
     "text": [
      "max iter reached\n",
      "1.0740948990468666 0.48289505382543657\n",
      "iter 3, 5\n"
     ]
    },
    {
     "name": "stderr",
     "output_type": "stream",
     "text": []
    },
    {
     "name": "stdout",
     "output_type": "stream",
     "text": [
      "max iter reached\n",
      "1.0565279279513093 0.6812989082555333\n",
      "iter 3, 6\n"
     ]
    },
    {
     "name": "stderr",
     "output_type": "stream",
     "text": []
    },
    {
     "name": "stdout",
     "output_type": "stream",
     "text": [
      "max iter reached\n",
      "1.0216240773055394 0.9396153501921262\n",
      "iter 3, 7\n"
     ]
    },
    {
     "name": "stderr",
     "output_type": "stream",
     "text": []
    },
    {
     "name": "stdout",
     "output_type": "stream",
     "text": [
      "max iter reached\n",
      "1.0294418411158568 0.90378395058911\n",
      "iter 3, 8\n"
     ]
    },
    {
     "name": "stderr",
     "output_type": "stream",
     "text": []
    },
    {
     "name": "stdout",
     "output_type": "stream",
     "text": [
      "max iter reached\n",
      "0.9328759766815707 0.874918732059193\n",
      "iter 3, 9\n"
     ]
    },
    {
     "name": "stderr",
     "output_type": "stream",
     "text": [
      "10it [01:44, 10.46s/it]\n",
      "4it [06:59, 104.74s/it]"
     ]
    },
    {
     "name": "stdout",
     "output_type": "stream",
     "text": [
      "max iter reached\n",
      "0.9216240772730727 0.9374902300248689\n"
     ]
    },
    {
     "name": "stderr",
     "output_type": "stream",
     "text": []
    },
    {
     "name": "stdout",
     "output_type": "stream",
     "text": [
      "iter 4, 0\n"
     ]
    },
    {
     "name": "stderr",
     "output_type": "stream",
     "text": []
    },
    {
     "name": "stdout",
     "output_type": "stream",
     "text": [
      "max iter reached\n",
      "1.074099153497458 0.4828468697021454\n",
      "iter 4, 1\n"
     ]
    },
    {
     "name": "stderr",
     "output_type": "stream",
     "text": []
    },
    {
     "name": "stdout",
     "output_type": "stream",
     "text": [
      "max iter reached\n",
      "1.0239636452361451 0.9301219658045042\n",
      "iter 4, 2\n"
     ]
    },
    {
     "name": "stderr",
     "output_type": "stream",
     "text": []
    },
    {
     "name": "stdout",
     "output_type": "stream",
     "text": [
      "max iter reached\n",
      "0.9323358883531921 0.8786291039377772\n",
      "iter 4, 3\n",
      "4.544444444444444 1.0\n",
      "iter 4, 4\n"
     ]
    },
    {
     "name": "stderr",
     "output_type": "stream",
     "text": []
    },
    {
     "name": "stdout",
     "output_type": "stream",
     "text": [
      "max iter reached\n",
      "1.0370107383476639 0.8570758336230799\n",
      "iter 4, 5\n"
     ]
    },
    {
     "name": "stderr",
     "output_type": "stream",
     "text": []
    },
    {
     "name": "stdout",
     "output_type": "stream",
     "text": [
      "max iter reached\n",
      "1.0730674047471849 0.4945610891541258\n",
      "iter 4, 6\n"
     ]
    },
    {
     "name": "stderr",
     "output_type": "stream",
     "text": []
    },
    {
     "name": "stdout",
     "output_type": "stream",
     "text": [
      "max iter reached\n",
      "1.0740992248713908 0.4828460613599017\n",
      "iter 4, 7\n"
     ]
    },
    {
     "name": "stderr",
     "output_type": "stream",
     "text": []
    },
    {
     "name": "stdout",
     "output_type": "stream",
     "text": [
      "max iter reached\n",
      "1.0239636452361431 0.9301219658045128\n",
      "iter 4, 8\n"
     ]
    },
    {
     "name": "stderr",
     "output_type": "stream",
     "text": []
    },
    {
     "name": "stdout",
     "output_type": "stream",
     "text": [
      "max iter reached\n",
      "0.9323358883531921 0.8786291039377772\n",
      "iter 4, 9\n"
     ]
    },
    {
     "name": "stderr",
     "output_type": "stream",
     "text": [
      "10it [01:41, 10.19s/it]\n",
      "5it [08:41, 103.70s/it]"
     ]
    },
    {
     "name": "stdout",
     "output_type": "stream",
     "text": [
      "max iter reached\n",
      "0.9740992164387593 0.40853886083680907\n"
     ]
    },
    {
     "name": "stderr",
     "output_type": "stream",
     "text": []
    },
    {
     "name": "stdout",
     "output_type": "stream",
     "text": [
      "iter 5, 0\n"
     ]
    },
    {
     "name": "stderr",
     "output_type": "stream",
     "text": []
    },
    {
     "name": "stdout",
     "output_type": "stream",
     "text": [
      "max iter reached\n",
      "0.9410910592242953 0.8090840330581698\n",
      "iter 5, 1\n"
     ]
    },
    {
     "name": "stderr",
     "output_type": "stream",
     "text": []
    },
    {
     "name": "stdout",
     "output_type": "stream",
     "text": [
      "max iter reached\n",
      "0.9463198442007213 0.758058855516594\n",
      "iter 5, 2\n"
     ]
    },
    {
     "name": "stderr",
     "output_type": "stream",
     "text": []
    },
    {
     "name": "stdout",
     "output_type": "stream",
     "text": [
      "max iter reached\n",
      "1.0528607803867407 0.7196396005660887\n",
      "iter 5, 3\n",
      "5.655555555555555 1.0\n",
      "iter 5, 4\n"
     ]
    },
    {
     "name": "stderr",
     "output_type": "stream",
     "text": []
    },
    {
     "name": "stdout",
     "output_type": "stream",
     "text": [
      "max iter reached\n",
      "0.951033721406323 0.7064263373547932\n",
      "iter 5, 5\n"
     ]
    },
    {
     "name": "stderr",
     "output_type": "stream",
     "text": []
    },
    {
     "name": "stdout",
     "output_type": "stream",
     "text": [
      "max iter reached\n",
      "1.0284954492198966 0.9087646177273244\n",
      "iter 5, 6\n"
     ]
    },
    {
     "name": "stderr",
     "output_type": "stream",
     "text": []
    },
    {
     "name": "stdout",
     "output_type": "stream",
     "text": [
      "max iter reached\n",
      "0.9410630592794206 0.8093384967168579\n",
      "iter 5, 7\n"
     ]
    },
    {
     "name": "stderr",
     "output_type": "stream",
     "text": []
    },
    {
     "name": "stdout",
     "output_type": "stream",
     "text": [
      "max iter reached\n",
      "0.9463198442007162 0.7580588555166473\n",
      "iter 5, 8\n"
     ]
    },
    {
     "name": "stderr",
     "output_type": "stream",
     "text": []
    },
    {
     "name": "stdout",
     "output_type": "stream",
     "text": [
      "max iter reached\n",
      "1.0528607803885046 0.7196396005481286\n",
      "iter 5, 9\n"
     ]
    },
    {
     "name": "stderr",
     "output_type": "stream",
     "text": [
      "10it [01:41, 10.10s/it]\n",
      "6it [10:22, 102.80s/it]"
     ]
    },
    {
     "name": "stdout",
     "output_type": "stream",
     "text": [
      "max iter reached\n",
      "1.041065825122286 0.8268882680717837\n"
     ]
    },
    {
     "name": "stderr",
     "output_type": "stream",
     "text": []
    },
    {
     "name": "stdout",
     "output_type": "stream",
     "text": [
      "iter 6, 0\n"
     ]
    },
    {
     "name": "stderr",
     "output_type": "stream",
     "text": []
    },
    {
     "name": "stdout",
     "output_type": "stream",
     "text": [
      "max iter reached\n",
      "1.0652463538176369 0.5841997449568338\n",
      "iter 6, 1\n"
     ]
    },
    {
     "name": "stderr",
     "output_type": "stream",
     "text": []
    },
    {
     "name": "stdout",
     "output_type": "stream",
     "text": [
      "max iter reached\n",
      "1.0397620980321738 0.8369878216265705\n",
      "iter 6, 2\n"
     ]
    },
    {
     "name": "stderr",
     "output_type": "stream",
     "text": []
    },
    {
     "name": "stdout",
     "output_type": "stream",
     "text": [
      "max iter reached\n",
      "0.9391416183845295 0.8263113150260117\n",
      "iter 6, 3\n",
      "6.766666666666667 1.0\n",
      "iter 6, 4\n"
     ]
    },
    {
     "name": "stderr",
     "output_type": "stream",
     "text": []
    },
    {
     "name": "stdout",
     "output_type": "stream",
     "text": [
      "max iter reached\n",
      "0.9472417736107536 0.7483613205461671\n",
      "iter 6, 5\n"
     ]
    },
    {
     "name": "stderr",
     "output_type": "stream",
     "text": []
    },
    {
     "name": "stdout",
     "output_type": "stream",
     "text": [
      "max iter reached\n",
      "1.0327773280583252 0.8847285964175569\n",
      "iter 6, 6\n"
     ]
    },
    {
     "name": "stderr",
     "output_type": "stream",
     "text": []
    },
    {
     "name": "stdout",
     "output_type": "stream",
     "text": [
      "max iter reached\n",
      "1.0652465819765327 0.5841971366083727\n",
      "iter 6, 7\n"
     ]
    },
    {
     "name": "stderr",
     "output_type": "stream",
     "text": []
    },
    {
     "name": "stdout",
     "output_type": "stream",
     "text": [
      "max iter reached\n",
      "1.039762098032182 0.8369878216265083\n",
      "iter 6, 8\n"
     ]
    },
    {
     "name": "stderr",
     "output_type": "stream",
     "text": []
    },
    {
     "name": "stdout",
     "output_type": "stream",
     "text": [
      "max iter reached\n",
      "0.9391416183845326 0.8263113150259851\n",
      "iter 6, 9\n"
     ]
    },
    {
     "name": "stderr",
     "output_type": "stream",
     "text": [
      "10it [01:41, 10.13s/it]\n",
      "7it [12:03, 102.31s/it]"
     ]
    },
    {
     "name": "stdout",
     "output_type": "stream",
     "text": [
      "max iter reached\n",
      "0.9652465823959119 0.5271490211337713\n"
     ]
    },
    {
     "name": "stderr",
     "output_type": "stream",
     "text": []
    },
    {
     "name": "stdout",
     "output_type": "stream",
     "text": [
      "iter 7, 0\n"
     ]
    },
    {
     "name": "stderr",
     "output_type": "stream",
     "text": []
    },
    {
     "name": "stdout",
     "output_type": "stream",
     "text": [
      "max iter reached\n",
      "1.0587828473782623 0.6568454080600357\n",
      "iter 7, 1\n"
     ]
    },
    {
     "name": "stderr",
     "output_type": "stream",
     "text": []
    },
    {
     "name": "stdout",
     "output_type": "stream",
     "text": [
      "max iter reached\n",
      "1.0482995661951395 0.7643081156569774\n",
      "iter 7, 2\n"
     ]
    },
    {
     "name": "stderr",
     "output_type": "stream",
     "text": []
    },
    {
     "name": "stdout",
     "output_type": "stream",
     "text": [
      "max iter reached\n",
      "0.9300693365950342 0.893389497947833\n",
      "iter 7, 3\n",
      "7.877777777777778 1.0\n",
      "iter 7, 4\n"
     ]
    },
    {
     "name": "stderr",
     "output_type": "stream",
     "text": []
    },
    {
     "name": "stdout",
     "output_type": "stream",
     "text": [
      "max iter reached\n",
      "1.0388618295256362 0.8437444392025795\n",
      "iter 7, 5\n"
     ]
    },
    {
     "name": "stderr",
     "output_type": "stream",
     "text": []
    },
    {
     "name": "stdout",
     "output_type": "stream",
     "text": [
      "max iter reached\n",
      "0.9660639146270799 0.5162107061447152\n",
      "iter 7, 6\n"
     ]
    },
    {
     "name": "stderr",
     "output_type": "stream",
     "text": []
    },
    {
     "name": "stdout",
     "output_type": "stream",
     "text": [
      "max iter reached\n",
      "1.0587791379597764 0.6568861060488778\n",
      "iter 7, 7\n"
     ]
    },
    {
     "name": "stderr",
     "output_type": "stream",
     "text": []
    },
    {
     "name": "stdout",
     "output_type": "stream",
     "text": [
      "max iter reached\n",
      "1.0482995661951395 0.7643081156569774\n",
      "iter 7, 8\n"
     ]
    },
    {
     "name": "stderr",
     "output_type": "stream",
     "text": []
    },
    {
     "name": "stdout",
     "output_type": "stream",
     "text": [
      "max iter reached\n",
      "0.9300693365950344 0.8933894979478313\n",
      "iter 7, 9\n"
     ]
    },
    {
     "name": "stderr",
     "output_type": "stream",
     "text": [
      "10it [01:41, 10.12s/it]\n",
      "8it [13:44, 101.95s/it]"
     ]
    },
    {
     "name": "stdout",
     "output_type": "stream",
     "text": [
      "max iter reached\n",
      "0.9587786398478596 0.6120449381720027\n"
     ]
    },
    {
     "name": "stderr",
     "output_type": "stream",
     "text": []
    },
    {
     "name": "stdout",
     "output_type": "stream",
     "text": [
      "iter 8, 0\n"
     ]
    },
    {
     "name": "stderr",
     "output_type": "stream",
     "text": []
    },
    {
     "name": "stdout",
     "output_type": "stream",
     "text": [
      "max iter reached\n",
      "1.0255205468883628 0.9232385071098795\n",
      "iter 8, 1\n"
     ]
    },
    {
     "name": "stderr",
     "output_type": "stream",
     "text": []
    },
    {
     "name": "stdout",
     "output_type": "stream",
     "text": [
      "max iter reached\n",
      "1.0191493542688412 0.9486025855358465\n",
      "iter 8, 2\n"
     ]
    },
    {
     "name": "stderr",
     "output_type": "stream",
     "text": []
    },
    {
     "name": "stdout",
     "output_type": "stream",
     "text": [
      "max iter reached\n",
      "0.9693581212041352 0.4719595828372549\n",
      "iter 8, 3\n",
      "8.988888888888889 1.0\n",
      "iter 8, 4\n"
     ]
    },
    {
     "name": "stderr",
     "output_type": "stream",
     "text": []
    },
    {
     "name": "stdout",
     "output_type": "stream",
     "text": [
      "max iter reached\n",
      "0.9215854554516038 0.9376551206078876\n",
      "iter 8, 5\n"
     ]
    },
    {
     "name": "stderr",
     "output_type": "stream",
     "text": []
    },
    {
     "name": "stdout",
     "output_type": "stream",
     "text": [
      "max iter reached\n",
      "1.049285389093718 0.754968830033521\n",
      "iter 8, 6\n"
     ]
    },
    {
     "name": "stderr",
     "output_type": "stream",
     "text": []
    },
    {
     "name": "stdout",
     "output_type": "stream",
     "text": [
      "max iter reached\n",
      "1.0254790053260154 0.9234282175728475\n",
      "iter 8, 7\n"
     ]
    },
    {
     "name": "stderr",
     "output_type": "stream",
     "text": []
    },
    {
     "name": "stdout",
     "output_type": "stream",
     "text": [
      "max iter reached\n",
      "1.0191493542688357 0.9486025855358655\n",
      "iter 8, 8\n"
     ]
    },
    {
     "name": "stderr",
     "output_type": "stream",
     "text": []
    },
    {
     "name": "stdout",
     "output_type": "stream",
     "text": [
      "max iter reached\n",
      "0.9693581212042389 0.47195958283586137\n",
      "iter 8, 9\n"
     ]
    },
    {
     "name": "stderr",
     "output_type": "stream",
     "text": [
      "10it [01:40, 10.09s/it]\n",
      "9it [15:25, 101.61s/it]"
     ]
    },
    {
     "name": "stdout",
     "output_type": "stream",
     "text": [
      "max iter reached\n",
      "0.9254677966351689 0.9194617389748705\n"
     ]
    },
    {
     "name": "stderr",
     "output_type": "stream",
     "text": []
    },
    {
     "name": "stdout",
     "output_type": "stream",
     "text": [
      "iter 9, 0\n"
     ]
    },
    {
     "name": "stderr",
     "output_type": "stream",
     "text": []
    },
    {
     "name": "stdout",
     "output_type": "stream",
     "text": [
      "max iter reached\n",
      "0.9508012599106833 0.709087639594827\n",
      "iter 9, 1\n"
     ]
    },
    {
     "name": "stderr",
     "output_type": "stream",
     "text": []
    },
    {
     "name": "stdout",
     "output_type": "stream",
     "text": [
      "max iter reached\n",
      "0.9580115142014568 0.621822686641097\n",
      "iter 9, 2\n"
     ]
    },
    {
     "name": "stderr",
     "output_type": "stream",
     "text": []
    },
    {
     "name": "stdout",
     "output_type": "stream",
     "text": [
      "max iter reached\n",
      "0.9206618667320409 0.941505776709825\n",
      "iter 9, 3\n",
      "10.1 1.0\n",
      "iter 9, 4\n"
     ]
    },
    {
     "name": "stderr",
     "output_type": "stream",
     "text": []
    },
    {
     "name": "stdout",
     "output_type": "stream",
     "text": [
      "max iter reached\n",
      "1.0701740070421755 0.527648391250968\n",
      "iter 9, 5\n"
     ]
    },
    {
     "name": "stderr",
     "output_type": "stream",
     "text": []
    },
    {
     "name": "stdout",
     "output_type": "stream",
     "text": [
      "max iter reached\n",
      "1.0317935495630846 0.8905954050432394\n",
      "iter 9, 6\n"
     ]
    },
    {
     "name": "stderr",
     "output_type": "stream",
     "text": []
    },
    {
     "name": "stdout",
     "output_type": "stream",
     "text": [
      "max iter reached\n",
      "0.9500662167985533 0.7174274022810321\n",
      "iter 9, 7\n"
     ]
    },
    {
     "name": "stderr",
     "output_type": "stream",
     "text": []
    },
    {
     "name": "stdout",
     "output_type": "stream",
     "text": [
      "max iter reached\n",
      "0.9580115142013209 0.6218226866428219\n",
      "iter 9, 8\n"
     ]
    },
    {
     "name": "stderr",
     "output_type": "stream",
     "text": []
    },
    {
     "name": "stdout",
     "output_type": "stream",
     "text": [
      "max iter reached\n",
      "0.9206618667320451 0.941505776709808\n",
      "iter 9, 9\n"
     ]
    },
    {
     "name": "stderr",
     "output_type": "stream",
     "text": [
      "10it [01:57, 11.71s/it]\n",
      "10it [17:22, 104.27s/it]"
     ]
    },
    {
     "name": "stdout",
     "output_type": "stream",
     "text": [
      "max iter reached\n",
      "1.0497804509289526 0.7502108239006969\n"
     ]
    },
    {
     "name": "stderr",
     "output_type": "stream",
     "text": [
      "\n"
     ]
    }
   ],
   "source": [
    "Sigma_init = np.linspace(0.1, 10.1, 10)\n",
    "Eps_init = np.linspace(0.5, 2., 10)\n",
    "step_size = 0.1\n",
    "\n",
    "# Sigma_init = np.linspace(0.1, 10.1, 1)\n",
    "# Eps_init = np.linspace(0.5, 2., 1)\n",
    "\n",
    "Predictions = np.zeros(shape=(len(Sigma_init), len(Eps_init), 2))\n",
    "\n",
    "max_iter = 100000\n",
    "for i, sigma_init in tqdm(enumerate(Sigma_init)):\n",
    "    for j, eps_init in tqdm(enumerate(Eps_init)):\n",
    "        sigma = sigma_init\n",
    "        eps = eps_init\n",
    "\n",
    "        iter = 0\n",
    "        print(f'iter {i}, {j}')\n",
    "        while abs(sigma_init - sigma_0) > 0.05 and abs(eps_init - eps_0) > 0.05:\n",
    "            if iter >= max_iter:\n",
    "                print('max iter reached')\n",
    "                break\n",
    "            grad_sigma, grad_eps = grad_Loss(sigma, eps, r)\n",
    "    \n",
    "            sigma -= np.sign(grad_sigma.sum()) * min(step_size, abs(grad_sigma.sum() / len(grad_sigma)) )\n",
    "            eps -= np.sign(grad_eps.sum()) * min(step_size, abs(grad_eps.sum() / len(grad_eps)) )\n",
    "\n",
    "            # print(grad_sigma.sum() / len(grad_sigma))\n",
    "            # print(grad_eps.sum() / len(grad_eps))\n",
    "            iter += 1\n",
    "\n",
    "        print(sigma, eps)\n",
    "        Predictions[i, j, 0], Predictions[i, j, 1] = sigma, eps"
   ]
  },
  {
   "cell_type": "code",
   "execution_count": 74,
   "metadata": {},
   "outputs": [
    {
     "data": {
      "text/plain": [
       "array([[ 1.04471155,  1.07408353,  0.94735193,  0.1       ,  1.07189094,\n",
       "         1.02987698,  0.94114059,  1.03380363,  1.07304024,  1.03887209],\n",
       "       [ 1.0430477 ,  1.06598623,  1.02503183,  1.21111111,  1.01111111,\n",
       "         1.01111111,  1.00799581,  0.96152582,  0.95775072,  0.94927646],\n",
       "       [ 1.04554617,  0.96539761,  1.04884435,  2.32222222,  0.95536611,\n",
       "         1.07407516,  0.94499425,  0.92222222,  0.92222222,  0.92222222],\n",
       "       [ 1.02162408,  1.02944184,  0.93287598,  3.43333333,  1.0740949 ,\n",
       "         1.05652793,  1.02162408,  1.02944184,  0.93287598,  0.92162408],\n",
       "       [ 1.07409915,  1.02396365,  0.93233589,  4.54444444,  1.03701074,\n",
       "         1.0730674 ,  1.07409922,  1.02396365,  0.93233589,  0.97409922],\n",
       "       [ 0.94109106,  0.94631984,  1.05286078,  5.65555556,  0.95103372,\n",
       "         1.02849545,  0.94106306,  0.94631984,  1.05286078,  1.04106583],\n",
       "       [ 1.06524635,  1.0397621 ,  0.93914162,  6.76666667,  0.94724177,\n",
       "         1.03277733,  1.06524658,  1.0397621 ,  0.93914162,  0.96524658],\n",
       "       [ 1.05878285,  1.04829957,  0.93006934,  7.87777778,  1.03886183,\n",
       "         0.96606391,  1.05877914,  1.04829957,  0.93006934,  0.95877864],\n",
       "       [ 1.02552055,  1.01914935,  0.96935812,  8.98888889,  0.92158546,\n",
       "         1.04928539,  1.02547901,  1.01914935,  0.96935812,  0.9254678 ],\n",
       "       [ 0.95080126,  0.95801151,  0.92066187, 10.1       ,  1.07017401,\n",
       "         1.03179355,  0.95006622,  0.95801151,  0.92066187,  1.04978045]])"
      ]
     },
     "execution_count": 74,
     "metadata": {},
     "output_type": "execute_result"
    }
   ],
   "source": [
    "Predictions[:, :, 0]"
   ]
  },
  {
   "cell_type": "code",
   "execution_count": 76,
   "metadata": {},
   "outputs": [
    {
     "data": {
      "image/png": "[encoded data removed]",
      "text/plain": [
       "<Figure size 640x480 with 2 Axes>"
      ]
     },
     "metadata": {},
     "output_type": "display_data"
    }
   ],
   "source": [
    "plt.imshow(abs(Predictions[:, :, 0] - sigma_0), interpolation='nearest')\n",
    " \n",
    "# Add colorbar\n",
    "plt.colorbar()\n",
    " \n",
    "plt.title(\"Heatmap with color bar\")\n",
    "plt.show()"
   ]
  },
  {
   "cell_type": "code",
   "execution_count": 78,
   "metadata": {},
   "outputs": [
    {
     "data": {
      "image/png": "[encoded data removed]",
      "text/plain": [
       "<Figure size 640x480 with 2 Axes>"
      ]
     },
     "metadata": {},
     "output_type": "display_data"
    }
   ],
   "source": [
    "plt.imshow(abs(Predictions[:, :, 1]- eps_0), cmap='hot', interpolation='nearest')\n",
    "\n",
    "# Add colorbar\n",
    "plt.colorbar()\n",
    " \n",
    "plt.title(\"Heatmap with color bar\")\n",
    "plt.show()"
   ]
  },
  {
   "cell_type": "code",
   "execution_count": null,
   "metadata": {},
   "outputs": [],
   "source": []
  }
 ],
 "metadata": {
  "kernelspec": {
   "display_name": "Jupyter_6_3_0",
   "language": "python",
   "name": "python3"
  },
  "language_info": {
   "codemirror_mode": {
    "name": "ipython",
    "version": 3
   },
   "file_extension": ".py",
   "mimetype": "text/x-python",
   "name": "python",
   "nbconvert_exporter": "python",
   "pygments_lexer": "ipython3",
   "version": "3.11.7"
  }
 },
 "nbformat": 4,
 "nbformat_minor": 2
}
